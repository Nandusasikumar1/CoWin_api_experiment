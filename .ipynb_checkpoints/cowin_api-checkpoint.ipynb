{
 "cells": [
  {
   "cell_type": "code",
   "execution_count": null,
   "id": "243c932c",
   "metadata": {},
   "outputs": [],
   "source": [
    "import pandas as pd\n",
    "import numpy as np \n",
    "import requests\n",
    "import streamlit as st\n",
    "file=pd.read_csv('cowinkerala.csv')\n",
    "st.set_page_config(page_title=\"Nandu's cowin slot finder\")\n",
    "date=st.text_input('Enter date(mm-dd-yyyy)')\n",
    "districts=st.selectbox('Select District',list(file['districts']))\n",
    "dist_id=list(file[file['districts']==districts]['district_id'])[0]\n",
    "response=requests.get('https://cdn-api.co-vin.in/api/v2/appointment/sessions/public/findByDistrict?district_id='+str(dist_id)+'&date=31-05-2021')\n",
    "l={}\n",
    "for i in response.json()['sessions']:\n",
    "    l[i['block_name']]=[i['address'],i['pincode'],i['available_capacity_dose1'],i['available_capacity_dose2']]\n",
    "display_data=pd.DataFrame(l,index=['address','pin','available_capacity_dose1','available_capacity_dose2']).T\n",
    "st.dataframe(display_data)"
   ]
  },
  {
   "cell_type": "code",
   "execution_count": null,
   "id": "b6f29f7c",
   "metadata": {},
   "outputs": [],
   "source": [
    "ff"
   ]
  },
  {
   "cell_type": "code",
   "execution_count": 5,
   "id": "e7df59d3",
   "metadata": {},
   "outputs": [
    {
     "ename": "TypeError",
     "evalue": "__init__() missing 2 required positional arguments: 'date' and 'district'",
     "output_type": "error",
     "traceback": [
      "\u001b[1;31m---------------------------------------------------------------------------\u001b[0m",
      "\u001b[1;31mTypeError\u001b[0m                                 Traceback (most recent call last)",
      "\u001b[1;32m<ipython-input-5-fe8e2b73c24c>\u001b[0m in \u001b[0;36m<module>\u001b[1;34m\u001b[0m\n\u001b[0;32m     35\u001b[0m         \u001b[1;32mexcept\u001b[0m \u001b[1;33m:\u001b[0m\u001b[1;33m\u001b[0m\u001b[1;33m\u001b[0m\u001b[0m\n\u001b[0;32m     36\u001b[0m             \u001b[0mprint\u001b[0m\u001b[1;33m(\u001b[0m\u001b[1;34m'center note available'\u001b[0m\u001b[1;33m)\u001b[0m\u001b[1;33m\u001b[0m\u001b[1;33m\u001b[0m\u001b[0m\n\u001b[1;32m---> 37\u001b[1;33m \u001b[0mcowin\u001b[0m\u001b[1;33m(\u001b[0m\u001b[1;33m)\u001b[0m\u001b[1;33m.\u001b[0m\u001b[0mcowin_data\u001b[0m\u001b[1;33m(\u001b[0m\u001b[1;33m)\u001b[0m\u001b[1;33m\u001b[0m\u001b[1;33m\u001b[0m\u001b[0m\n\u001b[0m",
      "\u001b[1;31mTypeError\u001b[0m: __init__() missing 2 required positional arguments: 'date' and 'district'"
     ]
    }
   ],
   "source": [
    "import pandas as pd\n",
    "import numpy as np \n",
    "import requests\n",
    "class cowin():\n",
    "    def __init__(self,date,district):\n",
    "        self.date=date\n",
    "        self.district=district\n",
    "    def read(self):\n",
    "        file1=pd.DataFrame({'district_id':[295, 296, 297, 298, 299, 300, 301, 302, 303, 304, 305, 306, 307, 308],\n",
    "                          'districts':['Kasaragod','Thiruvananthapuram','Kannur','Kollam','Wayanad','Pathanamthitta','Alappuzha','Malappuram','Thrissur','Kottayam','Kozhikode','Idukki','Ernakulam','Palakkad']\n",
    "                          })\n",
    "        return file1\n",
    "    def cowin_data(self):\n",
    "        file=self.read()\n",
    "        dist_id=list(file[file['districts']==self.district]['district_id'])[0]\n",
    "        response=requests.get('https://cdn-api.co-vin.in/api/v2/appointment/sessions/public/findByDistrict?',params={'district_id':str(dist_id),'date':self.date})\n",
    "        c=[]\n",
    "        try:\n",
    "            for i in response.json():\n",
    "                for k in response.json()[i]:\n",
    "                    c.append(k)\n",
    "            keyss=[i.keys() for i in c]\n",
    "            keys1=list(np.unique(keyss)[0])\n",
    "            index=[keys1.index(i) for i in ['name','pincode','fee_type','min_age_limit','vaccine','available_capacity_dose1','available_capacity_dose2']]\n",
    "            data={}\n",
    "            for f in index:\n",
    "                data[keys1[f]]=[]\n",
    "                for p in c:\n",
    "                    data[keys1[f]].append(list(p.values())[f])\n",
    "            df=pd.DataFrame(data)\n",
    "            df=df.astype('str')\n",
    "            return pd.DataFrame(data)\n",
    "        except :\n",
    "            print('center note available')\n",
    "cowin('01.cowin_data()"
   ]
  },
  {
   "cell_type": "code",
   "execution_count": 4,
   "id": "d7f64cfa",
   "metadata": {},
   "outputs": [
    {
     "name": "stdout",
     "output_type": "stream",
     "text": [
      "Enter date(mm-dd-yyyy)08-06-2021\n",
      "Select DistrictPathanamthitta\n"
     ]
    }
   ],
   "source": [
    "file=cowin().cowin_data()"
   ]
  },
  {
   "cell_type": "code",
   "execution_count": 15,
   "id": "6f617060",
   "metadata": {},
   "outputs": [
    {
     "data": {
      "text/plain": [
       "'COVISHIELD'"
      ]
     },
     "execution_count": 15,
     "metadata": {},
     "output_type": "execute_result"
    }
   ],
   "source": [
    "file['vaccine'][file['name'].index('Vallana CHC 18-44')]"
   ]
  },
  {
   "cell_type": "code",
   "execution_count": 41,
   "id": "ef5bce8b",
   "metadata": {},
   "outputs": [
    {
     "data": {
      "text/plain": [
       "name                        object\n",
       "pincode                     object\n",
       "fee_type                    object\n",
       "min_age_limit               object\n",
       "vaccine                     object\n",
       "available_capacity_dose1    object\n",
       "available_capacity_dose2    object\n",
       "dtype: object"
      ]
     },
     "execution_count": 41,
     "metadata": {},
     "output_type": "execute_result"
    }
   ],
   "source": [
    "file.dtypes"
   ]
  },
  {
   "cell_type": "code",
   "execution_count": 23,
   "id": "9639871e",
   "metadata": {},
   "outputs": [],
   "source": [
    "response=requests.get('https://cdn-api.co-vin.in/api/v2/appointment/sessions/public/findByDistrict?',params={'district_id':str(298),'date':'08-06-2021'})"
   ]
  },
  {
   "cell_type": "code",
   "execution_count": 24,
   "id": "5c94357c",
   "metadata": {},
   "outputs": [
    {
     "data": {
      "text/plain": [
       "{'sessions': []}"
      ]
     },
     "execution_count": 24,
     "metadata": {},
     "output_type": "execute_result"
    }
   ],
   "source": [
    "response.json()"
   ]
  },
  {
   "cell_type": "code",
   "execution_count": 7,
   "id": "7412b714",
   "metadata": {},
   "outputs": [
    {
     "name": "stdout",
     "output_type": "stream",
     "text": [
      "district name  :Pathanamthitta\n",
      "date07-06-2021\n"
     ]
    }
   ],
   "source": [
    "dist=input('district name  :')\n",
    "dist_id=list(ff[ff['districts']==dist]['district_id'])[0]\n",
    "dt=input('date')\n",
    "response=requests.get('https://cdn-api.co-vin.in/api/v2/appointment/sessions/public/findByDistrict?district_id='+str(dist_id)+'&date='+dt)\n",
    "l=pd.DataFrame()\n",
    "c=[]\n",
    "for i in response.json():\n",
    "    for k in response.json()[i]:\n",
    "        c.append(k)\n",
    "\n",
    "\n"
   ]
  },
  {
   "cell_type": "code",
   "execution_count": 32,
   "id": "b64e4ec6",
   "metadata": {},
   "outputs": [],
   "source": [
    "keyss=[i.keys() for i in c]\n"
   ]
  },
  {
   "cell_type": "code",
   "execution_count": 33,
   "id": "d0b625dd",
   "metadata": {},
   "outputs": [
    {
     "data": {
      "text/plain": [
       "[dict_keys(['center_id', 'name', 'address', 'state_name', 'district_name', 'block_name', 'pincode', 'from', 'to', 'lat', 'long', 'fee_type', 'session_id', 'date', 'available_capacity_dose1', 'available_capacity_dose2', 'available_capacity', 'fee', 'min_age_limit', 'vaccine', 'slots']),\n",
       " dict_keys(['center_id', 'name', 'address', 'state_name', 'district_name', 'block_name', 'pincode', 'from', 'to', 'lat', 'long', 'fee_type', 'session_id', 'date', 'available_capacity_dose1', 'available_capacity_dose2', 'available_capacity', 'fee', 'min_age_limit', 'vaccine', 'slots']),\n",
       " dict_keys(['center_id', 'name', 'address', 'state_name', 'district_name', 'block_name', 'pincode', 'from', 'to', 'lat', 'long', 'fee_type', 'session_id', 'date', 'available_capacity_dose1', 'available_capacity_dose2', 'available_capacity', 'fee', 'min_age_limit', 'vaccine', 'slots']),\n",
       " dict_keys(['center_id', 'name', 'address', 'state_name', 'district_name', 'block_name', 'pincode', 'from', 'to', 'lat', 'long', 'fee_type', 'session_id', 'date', 'available_capacity_dose1', 'available_capacity_dose2', 'available_capacity', 'fee', 'min_age_limit', 'vaccine', 'slots']),\n",
       " dict_keys(['center_id', 'name', 'address', 'state_name', 'district_name', 'block_name', 'pincode', 'from', 'to', 'lat', 'long', 'fee_type', 'session_id', 'date', 'available_capacity_dose1', 'available_capacity_dose2', 'available_capacity', 'fee', 'min_age_limit', 'vaccine', 'slots']),\n",
       " dict_keys(['center_id', 'name', 'address', 'state_name', 'district_name', 'block_name', 'pincode', 'from', 'to', 'lat', 'long', 'fee_type', 'session_id', 'date', 'available_capacity_dose1', 'available_capacity_dose2', 'available_capacity', 'fee', 'min_age_limit', 'vaccine', 'slots']),\n",
       " dict_keys(['center_id', 'name', 'address', 'state_name', 'district_name', 'block_name', 'pincode', 'from', 'to', 'lat', 'long', 'fee_type', 'session_id', 'date', 'available_capacity_dose1', 'available_capacity_dose2', 'available_capacity', 'fee', 'min_age_limit', 'vaccine', 'slots']),\n",
       " dict_keys(['center_id', 'name', 'address', 'state_name', 'district_name', 'block_name', 'pincode', 'from', 'to', 'lat', 'long', 'fee_type', 'session_id', 'date', 'available_capacity_dose1', 'available_capacity_dose2', 'available_capacity', 'fee', 'min_age_limit', 'vaccine', 'slots']),\n",
       " dict_keys(['center_id', 'name', 'address', 'state_name', 'district_name', 'block_name', 'pincode', 'from', 'to', 'lat', 'long', 'fee_type', 'session_id', 'date', 'available_capacity_dose1', 'available_capacity_dose2', 'available_capacity', 'fee', 'min_age_limit', 'vaccine', 'slots']),\n",
       " dict_keys(['center_id', 'name', 'address', 'state_name', 'district_name', 'block_name', 'pincode', 'from', 'to', 'lat', 'long', 'fee_type', 'session_id', 'date', 'available_capacity_dose1', 'available_capacity_dose2', 'available_capacity', 'fee', 'min_age_limit', 'vaccine', 'slots']),\n",
       " dict_keys(['center_id', 'name', 'address', 'state_name', 'district_name', 'block_name', 'pincode', 'from', 'to', 'lat', 'long', 'fee_type', 'session_id', 'date', 'available_capacity_dose1', 'available_capacity_dose2', 'available_capacity', 'fee', 'min_age_limit', 'vaccine', 'slots']),\n",
       " dict_keys(['center_id', 'name', 'address', 'state_name', 'district_name', 'block_name', 'pincode', 'from', 'to', 'lat', 'long', 'fee_type', 'session_id', 'date', 'available_capacity_dose1', 'available_capacity_dose2', 'available_capacity', 'fee', 'min_age_limit', 'vaccine', 'slots']),\n",
       " dict_keys(['center_id', 'name', 'address', 'state_name', 'district_name', 'block_name', 'pincode', 'from', 'to', 'lat', 'long', 'fee_type', 'session_id', 'date', 'available_capacity_dose1', 'available_capacity_dose2', 'available_capacity', 'fee', 'min_age_limit', 'vaccine', 'slots']),\n",
       " dict_keys(['center_id', 'name', 'address', 'state_name', 'district_name', 'block_name', 'pincode', 'from', 'to', 'lat', 'long', 'fee_type', 'session_id', 'date', 'available_capacity_dose1', 'available_capacity_dose2', 'available_capacity', 'fee', 'min_age_limit', 'vaccine', 'slots']),\n",
       " dict_keys(['center_id', 'name', 'address', 'state_name', 'district_name', 'block_name', 'pincode', 'from', 'to', 'lat', 'long', 'fee_type', 'session_id', 'date', 'available_capacity_dose1', 'available_capacity_dose2', 'available_capacity', 'fee', 'min_age_limit', 'vaccine', 'slots']),\n",
       " dict_keys(['center_id', 'name', 'address', 'state_name', 'district_name', 'block_name', 'pincode', 'from', 'to', 'lat', 'long', 'fee_type', 'session_id', 'date', 'available_capacity_dose1', 'available_capacity_dose2', 'available_capacity', 'fee', 'min_age_limit', 'vaccine', 'slots']),\n",
       " dict_keys(['center_id', 'name', 'address', 'state_name', 'district_name', 'block_name', 'pincode', 'from', 'to', 'lat', 'long', 'fee_type', 'session_id', 'date', 'available_capacity_dose1', 'available_capacity_dose2', 'available_capacity', 'fee', 'min_age_limit', 'vaccine', 'slots']),\n",
       " dict_keys(['center_id', 'name', 'address', 'state_name', 'district_name', 'block_name', 'pincode', 'from', 'to', 'lat', 'long', 'fee_type', 'session_id', 'date', 'available_capacity_dose1', 'available_capacity_dose2', 'available_capacity', 'fee', 'min_age_limit', 'vaccine', 'slots']),\n",
       " dict_keys(['center_id', 'name', 'address', 'state_name', 'district_name', 'block_name', 'pincode', 'from', 'to', 'lat', 'long', 'fee_type', 'session_id', 'date', 'available_capacity_dose1', 'available_capacity_dose2', 'available_capacity', 'fee', 'min_age_limit', 'vaccine', 'slots']),\n",
       " dict_keys(['center_id', 'name', 'address', 'state_name', 'district_name', 'block_name', 'pincode', 'from', 'to', 'lat', 'long', 'fee_type', 'session_id', 'date', 'available_capacity_dose1', 'available_capacity_dose2', 'available_capacity', 'fee', 'min_age_limit', 'vaccine', 'slots']),\n",
       " dict_keys(['center_id', 'name', 'address', 'state_name', 'district_name', 'block_name', 'pincode', 'from', 'to', 'lat', 'long', 'fee_type', 'session_id', 'date', 'available_capacity_dose1', 'available_capacity_dose2', 'available_capacity', 'fee', 'min_age_limit', 'vaccine', 'slots']),\n",
       " dict_keys(['center_id', 'name', 'address', 'state_name', 'district_name', 'block_name', 'pincode', 'from', 'to', 'lat', 'long', 'fee_type', 'session_id', 'date', 'available_capacity_dose1', 'available_capacity_dose2', 'available_capacity', 'fee', 'min_age_limit', 'vaccine', 'slots']),\n",
       " dict_keys(['center_id', 'name', 'address', 'state_name', 'district_name', 'block_name', 'pincode', 'from', 'to', 'lat', 'long', 'fee_type', 'session_id', 'date', 'available_capacity_dose1', 'available_capacity_dose2', 'available_capacity', 'fee', 'min_age_limit', 'vaccine', 'slots']),\n",
       " dict_keys(['center_id', 'name', 'address', 'state_name', 'district_name', 'block_name', 'pincode', 'from', 'to', 'lat', 'long', 'fee_type', 'session_id', 'date', 'available_capacity_dose1', 'available_capacity_dose2', 'available_capacity', 'fee', 'min_age_limit', 'vaccine', 'slots']),\n",
       " dict_keys(['center_id', 'name', 'address', 'state_name', 'district_name', 'block_name', 'pincode', 'from', 'to', 'lat', 'long', 'fee_type', 'session_id', 'date', 'available_capacity_dose1', 'available_capacity_dose2', 'available_capacity', 'fee', 'min_age_limit', 'vaccine', 'slots']),\n",
       " dict_keys(['center_id', 'name', 'address', 'state_name', 'district_name', 'block_name', 'pincode', 'from', 'to', 'lat', 'long', 'fee_type', 'session_id', 'date', 'available_capacity_dose1', 'available_capacity_dose2', 'available_capacity', 'fee', 'min_age_limit', 'vaccine', 'slots']),\n",
       " dict_keys(['center_id', 'name', 'address', 'state_name', 'district_name', 'block_name', 'pincode', 'from', 'to', 'lat', 'long', 'fee_type', 'session_id', 'date', 'available_capacity_dose1', 'available_capacity_dose2', 'available_capacity', 'fee', 'min_age_limit', 'vaccine', 'slots']),\n",
       " dict_keys(['center_id', 'name', 'address', 'state_name', 'district_name', 'block_name', 'pincode', 'from', 'to', 'lat', 'long', 'fee_type', 'session_id', 'date', 'available_capacity_dose1', 'available_capacity_dose2', 'available_capacity', 'fee', 'min_age_limit', 'vaccine', 'slots']),\n",
       " dict_keys(['center_id', 'name', 'address', 'state_name', 'district_name', 'block_name', 'pincode', 'from', 'to', 'lat', 'long', 'fee_type', 'session_id', 'date', 'available_capacity_dose1', 'available_capacity_dose2', 'available_capacity', 'fee', 'min_age_limit', 'vaccine', 'slots']),\n",
       " dict_keys(['center_id', 'name', 'address', 'state_name', 'district_name', 'block_name', 'pincode', 'from', 'to', 'lat', 'long', 'fee_type', 'session_id', 'date', 'available_capacity_dose1', 'available_capacity_dose2', 'available_capacity', 'fee', 'min_age_limit', 'vaccine', 'slots']),\n",
       " dict_keys(['center_id', 'name', 'address', 'state_name', 'district_name', 'block_name', 'pincode', 'from', 'to', 'lat', 'long', 'fee_type', 'session_id', 'date', 'available_capacity_dose1', 'available_capacity_dose2', 'available_capacity', 'fee', 'min_age_limit', 'vaccine', 'slots']),\n",
       " dict_keys(['center_id', 'name', 'address', 'state_name', 'district_name', 'block_name', 'pincode', 'from', 'to', 'lat', 'long', 'fee_type', 'session_id', 'date', 'available_capacity_dose1', 'available_capacity_dose2', 'available_capacity', 'fee', 'min_age_limit', 'vaccine', 'slots']),\n",
       " dict_keys(['center_id', 'name', 'address', 'state_name', 'district_name', 'block_name', 'pincode', 'from', 'to', 'lat', 'long', 'fee_type', 'session_id', 'date', 'available_capacity_dose1', 'available_capacity_dose2', 'available_capacity', 'fee', 'min_age_limit', 'vaccine', 'slots']),\n",
       " dict_keys(['center_id', 'name', 'address', 'state_name', 'district_name', 'block_name', 'pincode', 'from', 'to', 'lat', 'long', 'fee_type', 'session_id', 'date', 'available_capacity_dose1', 'available_capacity_dose2', 'available_capacity', 'fee', 'min_age_limit', 'vaccine', 'slots']),\n",
       " dict_keys(['center_id', 'name', 'address', 'state_name', 'district_name', 'block_name', 'pincode', 'from', 'to', 'lat', 'long', 'fee_type', 'session_id', 'date', 'available_capacity_dose1', 'available_capacity_dose2', 'available_capacity', 'fee', 'min_age_limit', 'vaccine', 'slots']),\n",
       " dict_keys(['center_id', 'name', 'address', 'state_name', 'district_name', 'block_name', 'pincode', 'from', 'to', 'lat', 'long', 'fee_type', 'session_id', 'date', 'available_capacity_dose1', 'available_capacity_dose2', 'available_capacity', 'fee', 'min_age_limit', 'vaccine', 'slots']),\n",
       " dict_keys(['center_id', 'name', 'address', 'state_name', 'district_name', 'block_name', 'pincode', 'from', 'to', 'lat', 'long', 'fee_type', 'session_id', 'date', 'available_capacity_dose1', 'available_capacity_dose2', 'available_capacity', 'fee', 'min_age_limit', 'vaccine', 'slots']),\n",
       " dict_keys(['center_id', 'name', 'address', 'state_name', 'district_name', 'block_name', 'pincode', 'from', 'to', 'lat', 'long', 'fee_type', 'session_id', 'date', 'available_capacity_dose1', 'available_capacity_dose2', 'available_capacity', 'fee', 'min_age_limit', 'vaccine', 'slots']),\n",
       " dict_keys(['center_id', 'name', 'address', 'state_name', 'district_name', 'block_name', 'pincode', 'from', 'to', 'lat', 'long', 'fee_type', 'session_id', 'date', 'available_capacity_dose1', 'available_capacity_dose2', 'available_capacity', 'fee', 'min_age_limit', 'vaccine', 'slots']),\n",
       " dict_keys(['center_id', 'name', 'address', 'state_name', 'district_name', 'block_name', 'pincode', 'from', 'to', 'lat', 'long', 'fee_type', 'session_id', 'date', 'available_capacity_dose1', 'available_capacity_dose2', 'available_capacity', 'fee', 'min_age_limit', 'vaccine', 'slots']),\n",
       " dict_keys(['center_id', 'name', 'address', 'state_name', 'district_name', 'block_name', 'pincode', 'from', 'to', 'lat', 'long', 'fee_type', 'session_id', 'date', 'available_capacity_dose1', 'available_capacity_dose2', 'available_capacity', 'fee', 'min_age_limit', 'vaccine', 'slots']),\n",
       " dict_keys(['center_id', 'name', 'address', 'state_name', 'district_name', 'block_name', 'pincode', 'from', 'to', 'lat', 'long', 'fee_type', 'session_id', 'date', 'available_capacity_dose1', 'available_capacity_dose2', 'available_capacity', 'fee', 'min_age_limit', 'vaccine', 'slots']),\n",
       " dict_keys(['center_id', 'name', 'address', 'state_name', 'district_name', 'block_name', 'pincode', 'from', 'to', 'lat', 'long', 'fee_type', 'session_id', 'date', 'available_capacity_dose1', 'available_capacity_dose2', 'available_capacity', 'fee', 'min_age_limit', 'vaccine', 'slots']),\n",
       " dict_keys(['center_id', 'name', 'address', 'state_name', 'district_name', 'block_name', 'pincode', 'from', 'to', 'lat', 'long', 'fee_type', 'session_id', 'date', 'available_capacity_dose1', 'available_capacity_dose2', 'available_capacity', 'fee', 'min_age_limit', 'vaccine', 'slots']),\n",
       " dict_keys(['center_id', 'name', 'address', 'state_name', 'district_name', 'block_name', 'pincode', 'from', 'to', 'lat', 'long', 'fee_type', 'session_id', 'date', 'available_capacity_dose1', 'available_capacity_dose2', 'available_capacity', 'fee', 'min_age_limit', 'vaccine', 'slots']),\n",
       " dict_keys(['center_id', 'name', 'address', 'state_name', 'district_name', 'block_name', 'pincode', 'from', 'to', 'lat', 'long', 'fee_type', 'session_id', 'date', 'available_capacity_dose1', 'available_capacity_dose2', 'available_capacity', 'fee', 'min_age_limit', 'vaccine', 'slots']),\n",
       " dict_keys(['center_id', 'name', 'address', 'state_name', 'district_name', 'block_name', 'pincode', 'from', 'to', 'lat', 'long', 'fee_type', 'session_id', 'date', 'available_capacity_dose1', 'available_capacity_dose2', 'available_capacity', 'fee', 'min_age_limit', 'vaccine', 'slots']),\n",
       " dict_keys(['center_id', 'name', 'address', 'state_name', 'district_name', 'block_name', 'pincode', 'from', 'to', 'lat', 'long', 'fee_type', 'session_id', 'date', 'available_capacity_dose1', 'available_capacity_dose2', 'available_capacity', 'fee', 'min_age_limit', 'vaccine', 'slots']),\n",
       " dict_keys(['center_id', 'name', 'address', 'state_name', 'district_name', 'block_name', 'pincode', 'from', 'to', 'lat', 'long', 'fee_type', 'session_id', 'date', 'available_capacity_dose1', 'available_capacity_dose2', 'available_capacity', 'fee', 'min_age_limit', 'vaccine', 'slots']),\n",
       " dict_keys(['center_id', 'name', 'address', 'state_name', 'district_name', 'block_name', 'pincode', 'from', 'to', 'lat', 'long', 'fee_type', 'session_id', 'date', 'available_capacity_dose1', 'available_capacity_dose2', 'available_capacity', 'fee', 'min_age_limit', 'vaccine', 'slots']),\n",
       " dict_keys(['center_id', 'name', 'address', 'state_name', 'district_name', 'block_name', 'pincode', 'from', 'to', 'lat', 'long', 'fee_type', 'session_id', 'date', 'available_capacity_dose1', 'available_capacity_dose2', 'available_capacity', 'fee', 'min_age_limit', 'vaccine', 'slots']),\n",
       " dict_keys(['center_id', 'name', 'address', 'state_name', 'district_name', 'block_name', 'pincode', 'from', 'to', 'lat', 'long', 'fee_type', 'session_id', 'date', 'available_capacity_dose1', 'available_capacity_dose2', 'available_capacity', 'fee', 'min_age_limit', 'vaccine', 'slots']),\n",
       " dict_keys(['center_id', 'name', 'address', 'state_name', 'district_name', 'block_name', 'pincode', 'from', 'to', 'lat', 'long', 'fee_type', 'session_id', 'date', 'available_capacity_dose1', 'available_capacity_dose2', 'available_capacity', 'fee', 'min_age_limit', 'vaccine', 'slots']),\n",
       " dict_keys(['center_id', 'name', 'address', 'state_name', 'district_name', 'block_name', 'pincode', 'from', 'to', 'lat', 'long', 'fee_type', 'session_id', 'date', 'available_capacity_dose1', 'available_capacity_dose2', 'available_capacity', 'fee', 'min_age_limit', 'vaccine', 'slots']),\n",
       " dict_keys(['center_id', 'name', 'address', 'state_name', 'district_name', 'block_name', 'pincode', 'from', 'to', 'lat', 'long', 'fee_type', 'session_id', 'date', 'available_capacity_dose1', 'available_capacity_dose2', 'available_capacity', 'fee', 'min_age_limit', 'vaccine', 'slots']),\n",
       " dict_keys(['center_id', 'name', 'address', 'state_name', 'district_name', 'block_name', 'pincode', 'from', 'to', 'lat', 'long', 'fee_type', 'session_id', 'date', 'available_capacity_dose1', 'available_capacity_dose2', 'available_capacity', 'fee', 'min_age_limit', 'vaccine', 'slots']),\n",
       " dict_keys(['center_id', 'name', 'address', 'state_name', 'district_name', 'block_name', 'pincode', 'from', 'to', 'lat', 'long', 'fee_type', 'session_id', 'date', 'available_capacity_dose1', 'available_capacity_dose2', 'available_capacity', 'fee', 'min_age_limit', 'vaccine', 'slots']),\n",
       " dict_keys(['center_id', 'name', 'address', 'state_name', 'district_name', 'block_name', 'pincode', 'from', 'to', 'lat', 'long', 'fee_type', 'session_id', 'date', 'available_capacity_dose1', 'available_capacity_dose2', 'available_capacity', 'fee', 'min_age_limit', 'vaccine', 'slots']),\n",
       " dict_keys(['center_id', 'name', 'address', 'state_name', 'district_name', 'block_name', 'pincode', 'from', 'to', 'lat', 'long', 'fee_type', 'session_id', 'date', 'available_capacity_dose1', 'available_capacity_dose2', 'available_capacity', 'fee', 'min_age_limit', 'vaccine', 'slots']),\n",
       " dict_keys(['center_id', 'name', 'address', 'state_name', 'district_name', 'block_name', 'pincode', 'from', 'to', 'lat', 'long', 'fee_type', 'session_id', 'date', 'available_capacity_dose1', 'available_capacity_dose2', 'available_capacity', 'fee', 'min_age_limit', 'vaccine', 'slots']),\n",
       " dict_keys(['center_id', 'name', 'address', 'state_name', 'district_name', 'block_name', 'pincode', 'from', 'to', 'lat', 'long', 'fee_type', 'session_id', 'date', 'available_capacity_dose1', 'available_capacity_dose2', 'available_capacity', 'fee', 'min_age_limit', 'vaccine', 'slots']),\n",
       " dict_keys(['center_id', 'name', 'address', 'state_name', 'district_name', 'block_name', 'pincode', 'from', 'to', 'lat', 'long', 'fee_type', 'session_id', 'date', 'available_capacity_dose1', 'available_capacity_dose2', 'available_capacity', 'fee', 'min_age_limit', 'vaccine', 'slots']),\n",
       " dict_keys(['center_id', 'name', 'address', 'state_name', 'district_name', 'block_name', 'pincode', 'from', 'to', 'lat', 'long', 'fee_type', 'session_id', 'date', 'available_capacity_dose1', 'available_capacity_dose2', 'available_capacity', 'fee', 'min_age_limit', 'vaccine', 'slots']),\n",
       " dict_keys(['center_id', 'name', 'address', 'state_name', 'district_name', 'block_name', 'pincode', 'from', 'to', 'lat', 'long', 'fee_type', 'session_id', 'date', 'available_capacity_dose1', 'available_capacity_dose2', 'available_capacity', 'fee', 'min_age_limit', 'vaccine', 'slots']),\n",
       " dict_keys(['center_id', 'name', 'address', 'state_name', 'district_name', 'block_name', 'pincode', 'from', 'to', 'lat', 'long', 'fee_type', 'session_id', 'date', 'available_capacity_dose1', 'available_capacity_dose2', 'available_capacity', 'fee', 'min_age_limit', 'vaccine', 'slots']),\n",
       " dict_keys(['center_id', 'name', 'address', 'state_name', 'district_name', 'block_name', 'pincode', 'from', 'to', 'lat', 'long', 'fee_type', 'session_id', 'date', 'available_capacity_dose1', 'available_capacity_dose2', 'available_capacity', 'fee', 'min_age_limit', 'vaccine', 'slots']),\n",
       " dict_keys(['center_id', 'name', 'address', 'state_name', 'district_name', 'block_name', 'pincode', 'from', 'to', 'lat', 'long', 'fee_type', 'session_id', 'date', 'available_capacity_dose1', 'available_capacity_dose2', 'available_capacity', 'fee', 'min_age_limit', 'vaccine', 'slots']),\n",
       " dict_keys(['center_id', 'name', 'address', 'state_name', 'district_name', 'block_name', 'pincode', 'from', 'to', 'lat', 'long', 'fee_type', 'session_id', 'date', 'available_capacity_dose1', 'available_capacity_dose2', 'available_capacity', 'fee', 'min_age_limit', 'vaccine', 'slots']),\n",
       " dict_keys(['center_id', 'name', 'address', 'state_name', 'district_name', 'block_name', 'pincode', 'from', 'to', 'lat', 'long', 'fee_type', 'session_id', 'date', 'available_capacity_dose1', 'available_capacity_dose2', 'available_capacity', 'fee', 'min_age_limit', 'vaccine', 'slots']),\n",
       " dict_keys(['center_id', 'name', 'address', 'state_name', 'district_name', 'block_name', 'pincode', 'from', 'to', 'lat', 'long', 'fee_type', 'session_id', 'date', 'available_capacity_dose1', 'available_capacity_dose2', 'available_capacity', 'fee', 'min_age_limit', 'vaccine', 'slots']),\n",
       " dict_keys(['center_id', 'name', 'address', 'state_name', 'district_name', 'block_name', 'pincode', 'from', 'to', 'lat', 'long', 'fee_type', 'session_id', 'date', 'available_capacity_dose1', 'available_capacity_dose2', 'available_capacity', 'fee', 'min_age_limit', 'vaccine', 'slots']),\n",
       " dict_keys(['center_id', 'name', 'address', 'state_name', 'district_name', 'block_name', 'pincode', 'from', 'to', 'lat', 'long', 'fee_type', 'session_id', 'date', 'available_capacity_dose1', 'available_capacity_dose2', 'available_capacity', 'fee', 'min_age_limit', 'vaccine', 'slots']),\n",
       " dict_keys(['center_id', 'name', 'address', 'state_name', 'district_name', 'block_name', 'pincode', 'from', 'to', 'lat', 'long', 'fee_type', 'session_id', 'date', 'available_capacity_dose1', 'available_capacity_dose2', 'available_capacity', 'fee', 'min_age_limit', 'vaccine', 'slots']),\n",
       " dict_keys(['center_id', 'name', 'address', 'state_name', 'district_name', 'block_name', 'pincode', 'from', 'to', 'lat', 'long', 'fee_type', 'session_id', 'date', 'available_capacity_dose1', 'available_capacity_dose2', 'available_capacity', 'fee', 'min_age_limit', 'vaccine', 'slots']),\n",
       " dict_keys(['center_id', 'name', 'address', 'state_name', 'district_name', 'block_name', 'pincode', 'from', 'to', 'lat', 'long', 'fee_type', 'session_id', 'date', 'available_capacity_dose1', 'available_capacity_dose2', 'available_capacity', 'fee', 'min_age_limit', 'vaccine', 'slots']),\n",
       " dict_keys(['center_id', 'name', 'address', 'state_name', 'district_name', 'block_name', 'pincode', 'from', 'to', 'lat', 'long', 'fee_type', 'session_id', 'date', 'available_capacity_dose1', 'available_capacity_dose2', 'available_capacity', 'fee', 'min_age_limit', 'vaccine', 'slots']),\n",
       " dict_keys(['center_id', 'name', 'address', 'state_name', 'district_name', 'block_name', 'pincode', 'from', 'to', 'lat', 'long', 'fee_type', 'session_id', 'date', 'available_capacity_dose1', 'available_capacity_dose2', 'available_capacity', 'fee', 'min_age_limit', 'vaccine', 'slots']),\n",
       " dict_keys(['center_id', 'name', 'address', 'state_name', 'district_name', 'block_name', 'pincode', 'from', 'to', 'lat', 'long', 'fee_type', 'session_id', 'date', 'available_capacity_dose1', 'available_capacity_dose2', 'available_capacity', 'fee', 'min_age_limit', 'vaccine', 'slots']),\n",
       " dict_keys(['center_id', 'name', 'address', 'state_name', 'district_name', 'block_name', 'pincode', 'from', 'to', 'lat', 'long', 'fee_type', 'session_id', 'date', 'available_capacity_dose1', 'available_capacity_dose2', 'available_capacity', 'fee', 'min_age_limit', 'vaccine', 'slots']),\n",
       " dict_keys(['center_id', 'name', 'address', 'state_name', 'district_name', 'block_name', 'pincode', 'from', 'to', 'lat', 'long', 'fee_type', 'session_id', 'date', 'available_capacity_dose1', 'available_capacity_dose2', 'available_capacity', 'fee', 'min_age_limit', 'vaccine', 'slots']),\n",
       " dict_keys(['center_id', 'name', 'address', 'state_name', 'district_name', 'block_name', 'pincode', 'from', 'to', 'lat', 'long', 'fee_type', 'session_id', 'date', 'available_capacity_dose1', 'available_capacity_dose2', 'available_capacity', 'fee', 'min_age_limit', 'vaccine', 'slots']),\n",
       " dict_keys(['center_id', 'name', 'address', 'state_name', 'district_name', 'block_name', 'pincode', 'from', 'to', 'lat', 'long', 'fee_type', 'session_id', 'date', 'available_capacity_dose1', 'available_capacity_dose2', 'available_capacity', 'fee', 'min_age_limit', 'vaccine', 'slots']),\n",
       " dict_keys(['center_id', 'name', 'address', 'state_name', 'district_name', 'block_name', 'pincode', 'from', 'to', 'lat', 'long', 'fee_type', 'session_id', 'date', 'available_capacity_dose1', 'available_capacity_dose2', 'available_capacity', 'fee', 'min_age_limit', 'vaccine', 'slots']),\n",
       " dict_keys(['center_id', 'name', 'address', 'state_name', 'district_name', 'block_name', 'pincode', 'from', 'to', 'lat', 'long', 'fee_type', 'session_id', 'date', 'available_capacity_dose1', 'available_capacity_dose2', 'available_capacity', 'fee', 'min_age_limit', 'vaccine', 'slots']),\n",
       " dict_keys(['center_id', 'name', 'address', 'state_name', 'district_name', 'block_name', 'pincode', 'from', 'to', 'lat', 'long', 'fee_type', 'session_id', 'date', 'available_capacity_dose1', 'available_capacity_dose2', 'available_capacity', 'fee', 'min_age_limit', 'vaccine', 'slots']),\n",
       " dict_keys(['center_id', 'name', 'address', 'state_name', 'district_name', 'block_name', 'pincode', 'from', 'to', 'lat', 'long', 'fee_type', 'session_id', 'date', 'available_capacity_dose1', 'available_capacity_dose2', 'available_capacity', 'fee', 'min_age_limit', 'vaccine', 'slots']),\n",
       " dict_keys(['center_id', 'name', 'address', 'state_name', 'district_name', 'block_name', 'pincode', 'from', 'to', 'lat', 'long', 'fee_type', 'session_id', 'date', 'available_capacity_dose1', 'available_capacity_dose2', 'available_capacity', 'fee', 'min_age_limit', 'vaccine', 'slots']),\n",
       " dict_keys(['center_id', 'name', 'address', 'state_name', 'district_name', 'block_name', 'pincode', 'from', 'to', 'lat', 'long', 'fee_type', 'session_id', 'date', 'available_capacity_dose1', 'available_capacity_dose2', 'available_capacity', 'fee', 'min_age_limit', 'vaccine', 'slots']),\n",
       " dict_keys(['center_id', 'name', 'address', 'state_name', 'district_name', 'block_name', 'pincode', 'from', 'to', 'lat', 'long', 'fee_type', 'session_id', 'date', 'available_capacity_dose1', 'available_capacity_dose2', 'available_capacity', 'fee', 'min_age_limit', 'vaccine', 'slots']),\n",
       " dict_keys(['center_id', 'name', 'address', 'state_name', 'district_name', 'block_name', 'pincode', 'from', 'to', 'lat', 'long', 'fee_type', 'session_id', 'date', 'available_capacity_dose1', 'available_capacity_dose2', 'available_capacity', 'fee', 'min_age_limit', 'vaccine', 'slots']),\n",
       " dict_keys(['center_id', 'name', 'address', 'state_name', 'district_name', 'block_name', 'pincode', 'from', 'to', 'lat', 'long', 'fee_type', 'session_id', 'date', 'available_capacity_dose1', 'available_capacity_dose2', 'available_capacity', 'fee', 'min_age_limit', 'vaccine', 'slots']),\n",
       " dict_keys(['center_id', 'name', 'address', 'state_name', 'district_name', 'block_name', 'pincode', 'from', 'to', 'lat', 'long', 'fee_type', 'session_id', 'date', 'available_capacity_dose1', 'available_capacity_dose2', 'available_capacity', 'fee', 'min_age_limit', 'vaccine', 'slots']),\n",
       " dict_keys(['center_id', 'name', 'address', 'state_name', 'district_name', 'block_name', 'pincode', 'from', 'to', 'lat', 'long', 'fee_type', 'session_id', 'date', 'available_capacity_dose1', 'available_capacity_dose2', 'available_capacity', 'fee', 'min_age_limit', 'vaccine', 'slots']),\n",
       " dict_keys(['center_id', 'name', 'address', 'state_name', 'district_name', 'block_name', 'pincode', 'from', 'to', 'lat', 'long', 'fee_type', 'session_id', 'date', 'available_capacity_dose1', 'available_capacity_dose2', 'available_capacity', 'fee', 'min_age_limit', 'vaccine', 'slots']),\n",
       " dict_keys(['center_id', 'name', 'address', 'state_name', 'district_name', 'block_name', 'pincode', 'from', 'to', 'lat', 'long', 'fee_type', 'session_id', 'date', 'available_capacity_dose1', 'available_capacity_dose2', 'available_capacity', 'fee', 'min_age_limit', 'vaccine', 'slots']),\n",
       " dict_keys(['center_id', 'name', 'address', 'state_name', 'district_name', 'block_name', 'pincode', 'from', 'to', 'lat', 'long', 'fee_type', 'session_id', 'date', 'available_capacity_dose1', 'available_capacity_dose2', 'available_capacity', 'fee', 'min_age_limit', 'vaccine', 'slots']),\n",
       " dict_keys(['center_id', 'name', 'address', 'state_name', 'district_name', 'block_name', 'pincode', 'from', 'to', 'lat', 'long', 'fee_type', 'session_id', 'date', 'available_capacity_dose1', 'available_capacity_dose2', 'available_capacity', 'fee', 'min_age_limit', 'vaccine', 'slots']),\n",
       " dict_keys(['center_id', 'name', 'address', 'state_name', 'district_name', 'block_name', 'pincode', 'from', 'to', 'lat', 'long', 'fee_type', 'session_id', 'date', 'available_capacity_dose1', 'available_capacity_dose2', 'available_capacity', 'fee', 'min_age_limit', 'vaccine', 'slots']),\n",
       " dict_keys(['center_id', 'name', 'address', 'state_name', 'district_name', 'block_name', 'pincode', 'from', 'to', 'lat', 'long', 'fee_type', 'session_id', 'date', 'available_capacity_dose1', 'available_capacity_dose2', 'available_capacity', 'fee', 'min_age_limit', 'vaccine', 'slots']),\n",
       " dict_keys(['center_id', 'name', 'address', 'state_name', 'district_name', 'block_name', 'pincode', 'from', 'to', 'lat', 'long', 'fee_type', 'session_id', 'date', 'available_capacity_dose1', 'available_capacity_dose2', 'available_capacity', 'fee', 'min_age_limit', 'vaccine', 'slots']),\n",
       " dict_keys(['center_id', 'name', 'address', 'state_name', 'district_name', 'block_name', 'pincode', 'from', 'to', 'lat', 'long', 'fee_type', 'session_id', 'date', 'available_capacity_dose1', 'available_capacity_dose2', 'available_capacity', 'fee', 'min_age_limit', 'vaccine', 'slots']),\n",
       " dict_keys(['center_id', 'name', 'address', 'state_name', 'district_name', 'block_name', 'pincode', 'from', 'to', 'lat', 'long', 'fee_type', 'session_id', 'date', 'available_capacity_dose1', 'available_capacity_dose2', 'available_capacity', 'fee', 'min_age_limit', 'vaccine', 'slots']),\n",
       " dict_keys(['center_id', 'name', 'address', 'state_name', 'district_name', 'block_name', 'pincode', 'from', 'to', 'lat', 'long', 'fee_type', 'session_id', 'date', 'available_capacity_dose1', 'available_capacity_dose2', 'available_capacity', 'fee', 'min_age_limit', 'vaccine', 'slots']),\n",
       " dict_keys(['center_id', 'name', 'address', 'state_name', 'district_name', 'block_name', 'pincode', 'from', 'to', 'lat', 'long', 'fee_type', 'session_id', 'date', 'available_capacity_dose1', 'available_capacity_dose2', 'available_capacity', 'fee', 'min_age_limit', 'vaccine', 'slots']),\n",
       " dict_keys(['center_id', 'name', 'address', 'state_name', 'district_name', 'block_name', 'pincode', 'from', 'to', 'lat', 'long', 'fee_type', 'session_id', 'date', 'available_capacity_dose1', 'available_capacity_dose2', 'available_capacity', 'fee', 'min_age_limit', 'vaccine', 'slots']),\n",
       " dict_keys(['center_id', 'name', 'address', 'state_name', 'district_name', 'block_name', 'pincode', 'from', 'to', 'lat', 'long', 'fee_type', 'session_id', 'date', 'available_capacity_dose1', 'available_capacity_dose2', 'available_capacity', 'fee', 'min_age_limit', 'vaccine', 'slots']),\n",
       " dict_keys(['center_id', 'name', 'address', 'state_name', 'district_name', 'block_name', 'pincode', 'from', 'to', 'lat', 'long', 'fee_type', 'session_id', 'date', 'available_capacity_dose1', 'available_capacity_dose2', 'available_capacity', 'fee', 'min_age_limit', 'vaccine', 'slots']),\n",
       " dict_keys(['center_id', 'name', 'address', 'state_name', 'district_name', 'block_name', 'pincode', 'from', 'to', 'lat', 'long', 'fee_type', 'session_id', 'date', 'available_capacity_dose1', 'available_capacity_dose2', 'available_capacity', 'fee', 'min_age_limit', 'vaccine', 'slots']),\n",
       " dict_keys(['center_id', 'name', 'address', 'state_name', 'district_name', 'block_name', 'pincode', 'from', 'to', 'lat', 'long', 'fee_type', 'session_id', 'date', 'available_capacity_dose1', 'available_capacity_dose2', 'available_capacity', 'fee', 'min_age_limit', 'vaccine', 'slots']),\n",
       " dict_keys(['center_id', 'name', 'address', 'state_name', 'district_name', 'block_name', 'pincode', 'from', 'to', 'lat', 'long', 'fee_type', 'session_id', 'date', 'available_capacity_dose1', 'available_capacity_dose2', 'available_capacity', 'fee', 'min_age_limit', 'vaccine', 'slots']),\n",
       " dict_keys(['center_id', 'name', 'address', 'state_name', 'district_name', 'block_name', 'pincode', 'from', 'to', 'lat', 'long', 'fee_type', 'session_id', 'date', 'available_capacity_dose1', 'available_capacity_dose2', 'available_capacity', 'fee', 'min_age_limit', 'vaccine', 'slots']),\n",
       " dict_keys(['center_id', 'name', 'address', 'state_name', 'district_name', 'block_name', 'pincode', 'from', 'to', 'lat', 'long', 'fee_type', 'session_id', 'date', 'available_capacity_dose1', 'available_capacity_dose2', 'available_capacity', 'fee', 'min_age_limit', 'vaccine', 'slots']),\n",
       " dict_keys(['center_id', 'name', 'address', 'state_name', 'district_name', 'block_name', 'pincode', 'from', 'to', 'lat', 'long', 'fee_type', 'session_id', 'date', 'available_capacity_dose1', 'available_capacity_dose2', 'available_capacity', 'fee', 'min_age_limit', 'vaccine', 'slots']),\n",
       " dict_keys(['center_id', 'name', 'address', 'state_name', 'district_name', 'block_name', 'pincode', 'from', 'to', 'lat', 'long', 'fee_type', 'session_id', 'date', 'available_capacity_dose1', 'available_capacity_dose2', 'available_capacity', 'fee', 'min_age_limit', 'vaccine', 'slots']),\n",
       " dict_keys(['center_id', 'name', 'address', 'state_name', 'district_name', 'block_name', 'pincode', 'from', 'to', 'lat', 'long', 'fee_type', 'session_id', 'date', 'available_capacity_dose1', 'available_capacity_dose2', 'available_capacity', 'fee', 'min_age_limit', 'vaccine', 'slots']),\n",
       " dict_keys(['center_id', 'name', 'address', 'state_name', 'district_name', 'block_name', 'pincode', 'from', 'to', 'lat', 'long', 'fee_type', 'session_id', 'date', 'available_capacity_dose1', 'available_capacity_dose2', 'available_capacity', 'fee', 'min_age_limit', 'vaccine', 'slots']),\n",
       " dict_keys(['center_id', 'name', 'address', 'state_name', 'district_name', 'block_name', 'pincode', 'from', 'to', 'lat', 'long', 'fee_type', 'session_id', 'date', 'available_capacity_dose1', 'available_capacity_dose2', 'available_capacity', 'fee', 'min_age_limit', 'vaccine', 'slots']),\n",
       " dict_keys(['center_id', 'name', 'address', 'state_name', 'district_name', 'block_name', 'pincode', 'from', 'to', 'lat', 'long', 'fee_type', 'session_id', 'date', 'available_capacity_dose1', 'available_capacity_dose2', 'available_capacity', 'fee', 'min_age_limit', 'vaccine', 'slots']),\n",
       " dict_keys(['center_id', 'name', 'address', 'state_name', 'district_name', 'block_name', 'pincode', 'from', 'to', 'lat', 'long', 'fee_type', 'session_id', 'date', 'available_capacity_dose1', 'available_capacity_dose2', 'available_capacity', 'fee', 'min_age_limit', 'vaccine', 'slots']),\n",
       " dict_keys(['center_id', 'name', 'address', 'state_name', 'district_name', 'block_name', 'pincode', 'from', 'to', 'lat', 'long', 'fee_type', 'session_id', 'date', 'available_capacity_dose1', 'available_capacity_dose2', 'available_capacity', 'fee', 'min_age_limit', 'vaccine', 'slots']),\n",
       " dict_keys(['center_id', 'name', 'address', 'state_name', 'district_name', 'block_name', 'pincode', 'from', 'to', 'lat', 'long', 'fee_type', 'session_id', 'date', 'available_capacity_dose1', 'available_capacity_dose2', 'available_capacity', 'fee', 'min_age_limit', 'vaccine', 'slots']),\n",
       " dict_keys(['center_id', 'name', 'address', 'state_name', 'district_name', 'block_name', 'pincode', 'from', 'to', 'lat', 'long', 'fee_type', 'session_id', 'date', 'available_capacity_dose1', 'available_capacity_dose2', 'available_capacity', 'fee', 'min_age_limit', 'vaccine', 'slots']),\n",
       " dict_keys(['center_id', 'name', 'address', 'state_name', 'district_name', 'block_name', 'pincode', 'from', 'to', 'lat', 'long', 'fee_type', 'session_id', 'date', 'available_capacity_dose1', 'available_capacity_dose2', 'available_capacity', 'fee', 'min_age_limit', 'vaccine', 'slots']),\n",
       " dict_keys(['center_id', 'name', 'address', 'state_name', 'district_name', 'block_name', 'pincode', 'from', 'to', 'lat', 'long', 'fee_type', 'session_id', 'date', 'available_capacity_dose1', 'available_capacity_dose2', 'available_capacity', 'fee', 'min_age_limit', 'vaccine', 'slots']),\n",
       " dict_keys(['center_id', 'name', 'address', 'state_name', 'district_name', 'block_name', 'pincode', 'from', 'to', 'lat', 'long', 'fee_type', 'session_id', 'date', 'available_capacity_dose1', 'available_capacity_dose2', 'available_capacity', 'fee', 'min_age_limit', 'vaccine', 'slots']),\n",
       " dict_keys(['center_id', 'name', 'address', 'state_name', 'district_name', 'block_name', 'pincode', 'from', 'to', 'lat', 'long', 'fee_type', 'session_id', 'date', 'available_capacity_dose1', 'available_capacity_dose2', 'available_capacity', 'fee', 'min_age_limit', 'vaccine', 'slots']),\n",
       " dict_keys(['center_id', 'name', 'address', 'state_name', 'district_name', 'block_name', 'pincode', 'from', 'to', 'lat', 'long', 'fee_type', 'session_id', 'date', 'available_capacity_dose1', 'available_capacity_dose2', 'available_capacity', 'fee', 'min_age_limit', 'vaccine', 'slots']),\n",
       " dict_keys(['center_id', 'name', 'address', 'state_name', 'district_name', 'block_name', 'pincode', 'from', 'to', 'lat', 'long', 'fee_type', 'session_id', 'date', 'available_capacity_dose1', 'available_capacity_dose2', 'available_capacity', 'fee', 'min_age_limit', 'vaccine', 'slots']),\n",
       " dict_keys(['center_id', 'name', 'address', 'state_name', 'district_name', 'block_name', 'pincode', 'from', 'to', 'lat', 'long', 'fee_type', 'session_id', 'date', 'available_capacity_dose1', 'available_capacity_dose2', 'available_capacity', 'fee', 'min_age_limit', 'vaccine', 'slots']),\n",
       " dict_keys(['center_id', 'name', 'address', 'state_name', 'district_name', 'block_name', 'pincode', 'from', 'to', 'lat', 'long', 'fee_type', 'session_id', 'date', 'available_capacity_dose1', 'available_capacity_dose2', 'available_capacity', 'fee', 'min_age_limit', 'vaccine', 'slots']),\n",
       " dict_keys(['center_id', 'name', 'address', 'state_name', 'district_name', 'block_name', 'pincode', 'from', 'to', 'lat', 'long', 'fee_type', 'session_id', 'date', 'available_capacity_dose1', 'available_capacity_dose2', 'available_capacity', 'fee', 'min_age_limit', 'vaccine', 'slots']),\n",
       " dict_keys(['center_id', 'name', 'address', 'state_name', 'district_name', 'block_name', 'pincode', 'from', 'to', 'lat', 'long', 'fee_type', 'session_id', 'date', 'available_capacity_dose1', 'available_capacity_dose2', 'available_capacity', 'fee', 'min_age_limit', 'vaccine', 'slots']),\n",
       " dict_keys(['center_id', 'name', 'address', 'state_name', 'district_name', 'block_name', 'pincode', 'from', 'to', 'lat', 'long', 'fee_type', 'session_id', 'date', 'available_capacity_dose1', 'available_capacity_dose2', 'available_capacity', 'fee', 'min_age_limit', 'vaccine', 'slots']),\n",
       " dict_keys(['center_id', 'name', 'address', 'state_name', 'district_name', 'block_name', 'pincode', 'from', 'to', 'lat', 'long', 'fee_type', 'session_id', 'date', 'available_capacity_dose1', 'available_capacity_dose2', 'available_capacity', 'fee', 'min_age_limit', 'vaccine', 'slots']),\n",
       " dict_keys(['center_id', 'name', 'address', 'state_name', 'district_name', 'block_name', 'pincode', 'from', 'to', 'lat', 'long', 'fee_type', 'session_id', 'date', 'available_capacity_dose1', 'available_capacity_dose2', 'available_capacity', 'fee', 'min_age_limit', 'vaccine', 'slots']),\n",
       " dict_keys(['center_id', 'name', 'address', 'state_name', 'district_name', 'block_name', 'pincode', 'from', 'to', 'lat', 'long', 'fee_type', 'session_id', 'date', 'available_capacity_dose1', 'available_capacity_dose2', 'available_capacity', 'fee', 'min_age_limit', 'vaccine', 'slots']),\n",
       " dict_keys(['center_id', 'name', 'address', 'state_name', 'district_name', 'block_name', 'pincode', 'from', 'to', 'lat', 'long', 'fee_type', 'session_id', 'date', 'available_capacity_dose1', 'available_capacity_dose2', 'available_capacity', 'fee', 'min_age_limit', 'vaccine', 'slots']),\n",
       " dict_keys(['center_id', 'name', 'address', 'state_name', 'district_name', 'block_name', 'pincode', 'from', 'to', 'lat', 'long', 'fee_type', 'session_id', 'date', 'available_capacity_dose1', 'available_capacity_dose2', 'available_capacity', 'fee', 'min_age_limit', 'vaccine', 'slots']),\n",
       " dict_keys(['center_id', 'name', 'address', 'state_name', 'district_name', 'block_name', 'pincode', 'from', 'to', 'lat', 'long', 'fee_type', 'session_id', 'date', 'available_capacity_dose1', 'available_capacity_dose2', 'available_capacity', 'fee', 'min_age_limit', 'vaccine', 'slots']),\n",
       " dict_keys(['center_id', 'name', 'address', 'state_name', 'district_name', 'block_name', 'pincode', 'from', 'to', 'lat', 'long', 'fee_type', 'session_id', 'date', 'available_capacity_dose1', 'available_capacity_dose2', 'available_capacity', 'fee', 'min_age_limit', 'vaccine', 'slots'])]"
      ]
     },
     "execution_count": 33,
     "metadata": {},
     "output_type": "execute_result"
    }
   ],
   "source": [
    "keyss"
   ]
  },
  {
   "cell_type": "code",
   "execution_count": 41,
   "id": "3dbea7cf",
   "metadata": {},
   "outputs": [],
   "source": [
    "keys1=list(list(np.unique(keyss))[0])"
   ]
  },
  {
   "cell_type": "code",
   "execution_count": 52,
   "id": "7283c24a",
   "metadata": {},
   "outputs": [],
   "source": [
    "keys1=list(np.unique(keyss)[0])"
   ]
  },
  {
   "cell_type": "code",
   "execution_count": 62,
   "id": "560e6fdd",
   "metadata": {},
   "outputs": [
    {
     "data": {
      "text/plain": [
       "['center_id',\n",
       " 'name',\n",
       " 'address',\n",
       " 'state_name',\n",
       " 'district_name',\n",
       " 'block_name',\n",
       " 'pincode',\n",
       " 'from',\n",
       " 'to',\n",
       " 'lat',\n",
       " 'long',\n",
       " 'fee_type',\n",
       " 'session_id',\n",
       " 'date',\n",
       " 'available_capacity_dose1',\n",
       " 'available_capacity_dose2',\n",
       " 'available_capacity',\n",
       " 'fee',\n",
       " 'min_age_limit',\n",
       " 'vaccine',\n",
       " 'slots']"
      ]
     },
     "execution_count": 62,
     "metadata": {},
     "output_type": "execute_result"
    }
   ],
   "source": [
    "list(np.unique(keyss)[0])"
   ]
  },
  {
   "cell_type": "code",
   "execution_count": 51,
   "id": "3223d27e",
   "metadata": {},
   "outputs": [
    {
     "name": "stdout",
     "output_type": "stream",
     "text": [
      "center_id\n",
      "name\n",
      "address\n",
      "state_name\n",
      "district_name\n",
      "block_name\n",
      "pincode\n",
      "from\n",
      "to\n",
      "lat\n",
      "long\n",
      "fee_type\n",
      "session_id\n",
      "date\n",
      "available_capacity_dose1\n",
      "available_capacity_dose2\n",
      "available_capacity\n",
      "fee\n",
      "min_age_limit\n",
      "vaccine\n",
      "slots\n"
     ]
    }
   ],
   "source": [
    "for i in keys1:\n",
    "    for k in i:\n",
    "        print(k)"
   ]
  },
  {
   "cell_type": "code",
   "execution_count": 17,
   "id": "8c8443bd",
   "metadata": {},
   "outputs": [],
   "source": [
    "index=[keys1.index(i) for i in ['name','pincode','fee_type','min_age_limit','vaccine','available_capacity_dose1','available_capacity_dose2']]"
   ]
  },
  {
   "cell_type": "code",
   "execution_count": 18,
   "id": "437d10f1",
   "metadata": {},
   "outputs": [
    {
     "data": {
      "text/plain": [
       "[1, 6, 11, 18, 19, 14, 15]"
      ]
     },
     "execution_count": 18,
     "metadata": {},
     "output_type": "execute_result"
    }
   ],
   "source": [
    "index"
   ]
  },
  {
   "cell_type": "code",
   "execution_count": 25,
   "id": "18ff8a1c",
   "metadata": {},
   "outputs": [],
   "source": [
    "data={}\n",
    "for k in index:\n",
    "    data[keys1[k]]=[]\n",
    "    for b in c:\n",
    "        data[keys1[k]].append(list(b.values())[k])\n",
    "        \n",
    "        \n",
    "    \n",
    "    "
   ]
  },
  {
   "cell_type": "code",
   "execution_count": 27,
   "id": "25312d6b",
   "metadata": {},
   "outputs": [
    {
     "data": {
      "text/html": [
       "<div>\n",
       "<style scoped>\n",
       "    .dataframe tbody tr th:only-of-type {\n",
       "        vertical-align: middle;\n",
       "    }\n",
       "\n",
       "    .dataframe tbody tr th {\n",
       "        vertical-align: top;\n",
       "    }\n",
       "\n",
       "    .dataframe thead th {\n",
       "        text-align: right;\n",
       "    }\n",
       "</style>\n",
       "<table border=\"1\" class=\"dataframe\">\n",
       "  <thead>\n",
       "    <tr style=\"text-align: right;\">\n",
       "      <th></th>\n",
       "      <th>name</th>\n",
       "      <th>pincode</th>\n",
       "      <th>fee_type</th>\n",
       "      <th>min_age_limit</th>\n",
       "      <th>vaccine</th>\n",
       "      <th>available_capacity_dose1</th>\n",
       "      <th>available_capacity_dose2</th>\n",
       "    </tr>\n",
       "  </thead>\n",
       "  <tbody>\n",
       "    <tr>\n",
       "      <th>0</th>\n",
       "      <td>Mezhuveli FHC</td>\n",
       "      <td>689503</td>\n",
       "      <td>Free</td>\n",
       "      <td>45</td>\n",
       "      <td>COVISHIELD</td>\n",
       "      <td>0</td>\n",
       "      <td>0</td>\n",
       "    </tr>\n",
       "    <tr>\n",
       "      <th>1</th>\n",
       "      <td>Chennerkara FHC</td>\n",
       "      <td>689625</td>\n",
       "      <td>Free</td>\n",
       "      <td>45</td>\n",
       "      <td>COVISHIELD</td>\n",
       "      <td>0</td>\n",
       "      <td>0</td>\n",
       "    </tr>\n",
       "    <tr>\n",
       "      <th>2</th>\n",
       "      <td>Thannithodu FHC</td>\n",
       "      <td>689699</td>\n",
       "      <td>Free</td>\n",
       "      <td>45</td>\n",
       "      <td>COVISHIELD</td>\n",
       "      <td>0</td>\n",
       "      <td>0</td>\n",
       "    </tr>\n",
       "    <tr>\n",
       "      <th>3</th>\n",
       "      <td>Pandalam FHC</td>\n",
       "      <td>689501</td>\n",
       "      <td>Free</td>\n",
       "      <td>45</td>\n",
       "      <td>COVISHIELD</td>\n",
       "      <td>0</td>\n",
       "      <td>0</td>\n",
       "    </tr>\n",
       "    <tr>\n",
       "      <th>4</th>\n",
       "      <td>Kuttoor PHC</td>\n",
       "      <td>689106</td>\n",
       "      <td>Free</td>\n",
       "      <td>18</td>\n",
       "      <td>COVISHIELD</td>\n",
       "      <td>0</td>\n",
       "      <td>0</td>\n",
       "    </tr>\n",
       "    <tr>\n",
       "      <th>...</th>\n",
       "      <td>...</td>\n",
       "      <td>...</td>\n",
       "      <td>...</td>\n",
       "      <td>...</td>\n",
       "      <td>...</td>\n",
       "      <td>...</td>\n",
       "      <td>...</td>\n",
       "    </tr>\n",
       "    <tr>\n",
       "      <th>135</th>\n",
       "      <td>Thumpamon CHC</td>\n",
       "      <td>689502</td>\n",
       "      <td>Free</td>\n",
       "      <td>45</td>\n",
       "      <td>COVISHIELD</td>\n",
       "      <td>0</td>\n",
       "      <td>0</td>\n",
       "    </tr>\n",
       "    <tr>\n",
       "      <th>136</th>\n",
       "      <td>Kadampanad PHC</td>\n",
       "      <td>691552</td>\n",
       "      <td>Free</td>\n",
       "      <td>45</td>\n",
       "      <td>COVISHIELD</td>\n",
       "      <td>0</td>\n",
       "      <td>0</td>\n",
       "    </tr>\n",
       "    <tr>\n",
       "      <th>137</th>\n",
       "      <td>Thiruvalla THQH</td>\n",
       "      <td>689101</td>\n",
       "      <td>Free</td>\n",
       "      <td>18</td>\n",
       "      <td>COVISHIELD</td>\n",
       "      <td>0</td>\n",
       "      <td>0</td>\n",
       "    </tr>\n",
       "    <tr>\n",
       "      <th>138</th>\n",
       "      <td>Kunnamthanam CHC</td>\n",
       "      <td>689581</td>\n",
       "      <td>Free</td>\n",
       "      <td>18</td>\n",
       "      <td>COVISHIELD</td>\n",
       "      <td>0</td>\n",
       "      <td>0</td>\n",
       "    </tr>\n",
       "    <tr>\n",
       "      <th>139</th>\n",
       "      <td>Mallapuzhassery PHC</td>\n",
       "      <td>689652</td>\n",
       "      <td>Free</td>\n",
       "      <td>18</td>\n",
       "      <td>COVISHIELD</td>\n",
       "      <td>0</td>\n",
       "      <td>0</td>\n",
       "    </tr>\n",
       "  </tbody>\n",
       "</table>\n",
       "<p>140 rows × 7 columns</p>\n",
       "</div>"
      ],
      "text/plain": [
       "                    name  pincode fee_type  min_age_limit     vaccine  \\\n",
       "0          Mezhuveli FHC   689503     Free             45  COVISHIELD   \n",
       "1        Chennerkara FHC   689625     Free             45  COVISHIELD   \n",
       "2        Thannithodu FHC   689699     Free             45  COVISHIELD   \n",
       "3           Pandalam FHC   689501     Free             45  COVISHIELD   \n",
       "4            Kuttoor PHC   689106     Free             18  COVISHIELD   \n",
       "..                   ...      ...      ...            ...         ...   \n",
       "135        Thumpamon CHC   689502     Free             45  COVISHIELD   \n",
       "136       Kadampanad PHC   691552     Free             45  COVISHIELD   \n",
       "137      Thiruvalla THQH   689101     Free             18  COVISHIELD   \n",
       "138     Kunnamthanam CHC   689581     Free             18  COVISHIELD   \n",
       "139  Mallapuzhassery PHC   689652     Free             18  COVISHIELD   \n",
       "\n",
       "     available_capacity_dose1  available_capacity_dose2  \n",
       "0                           0                         0  \n",
       "1                           0                         0  \n",
       "2                           0                         0  \n",
       "3                           0                         0  \n",
       "4                           0                         0  \n",
       "..                        ...                       ...  \n",
       "135                         0                         0  \n",
       "136                         0                         0  \n",
       "137                         0                         0  \n",
       "138                         0                         0  \n",
       "139                         0                         0  \n",
       "\n",
       "[140 rows x 7 columns]"
      ]
     },
     "execution_count": 27,
     "metadata": {},
     "output_type": "execute_result"
    }
   ],
   "source": [
    "pd.DataFrame(data)"
   ]
  },
  {
   "cell_type": "code",
   "execution_count": 24,
   "id": "fc8ebccf",
   "metadata": {},
   "outputs": [
    {
     "name": "stdout",
     "output_type": "stream",
     "text": [
      "Mezhuveli FHC\n"
     ]
    }
   ],
   "source": [
    "for b in c:\n",
    "    print(list(b.values())[1])\n",
    "    break"
   ]
  },
  {
   "cell_type": "code",
   "execution_count": 4,
   "id": "0e5b3206",
   "metadata": {},
   "outputs": [],
   "source": [
    "import numpy as np"
   ]
  },
  {
   "cell_type": "code",
   "execution_count": null,
   "id": "98cc385e",
   "metadata": {},
   "outputs": [],
   "source": [
    "1,6,11"
   ]
  },
  {
   "cell_type": "code",
   "execution_count": 8,
   "id": "baa6e4d0",
   "metadata": {},
   "outputs": [
    {
     "data": {
      "text/html": [
       "<div>\n",
       "<style scoped>\n",
       "    .dataframe tbody tr th:only-of-type {\n",
       "        vertical-align: middle;\n",
       "    }\n",
       "\n",
       "    .dataframe tbody tr th {\n",
       "        vertical-align: top;\n",
       "    }\n",
       "\n",
       "    .dataframe thead th {\n",
       "        text-align: right;\n",
       "    }\n",
       "</style>\n",
       "<table border=\"1\" class=\"dataframe\">\n",
       "  <thead>\n",
       "    <tr style=\"text-align: right;\">\n",
       "      <th></th>\n",
       "      <th>center_id</th>\n",
       "      <th>name</th>\n",
       "      <th>address</th>\n",
       "      <th>state_name</th>\n",
       "      <th>district_name</th>\n",
       "      <th>block_name</th>\n",
       "      <th>pincode</th>\n",
       "      <th>from</th>\n",
       "      <th>to</th>\n",
       "      <th>lat</th>\n",
       "      <th>...</th>\n",
       "      <th>fee_type</th>\n",
       "      <th>session_id</th>\n",
       "      <th>date</th>\n",
       "      <th>available_capacity_dose1</th>\n",
       "      <th>available_capacity_dose2</th>\n",
       "      <th>available_capacity</th>\n",
       "      <th>fee</th>\n",
       "      <th>min_age_limit</th>\n",
       "      <th>vaccine</th>\n",
       "      <th>slots</th>\n",
       "    </tr>\n",
       "  </thead>\n",
       "  <tbody>\n",
       "    <tr>\n",
       "      <th>0</th>\n",
       "      <td>120358</td>\n",
       "      <td>Mezhuveli FHC</td>\n",
       "      <td>Mezhuveli PHC Mezhuveli P.O</td>\n",
       "      <td>Kerala</td>\n",
       "      <td>Pathanamthitta</td>\n",
       "      <td>Vallana CHC</td>\n",
       "      <td>689503</td>\n",
       "      <td>09:00:00</td>\n",
       "      <td>14:00:00</td>\n",
       "      <td>9</td>\n",
       "      <td>...</td>\n",
       "      <td>Free</td>\n",
       "      <td>3a6ea98f-72aa-4126-b006-899c8c4400cc</td>\n",
       "      <td>07-06-2021</td>\n",
       "      <td>0</td>\n",
       "      <td>0</td>\n",
       "      <td>0</td>\n",
       "      <td>0</td>\n",
       "      <td>45</td>\n",
       "      <td>COVISHIELD</td>\n",
       "      <td>[09:00AM-10:00AM, 10:00AM-11:00AM, 11:00AM-12:...</td>\n",
       "    </tr>\n",
       "    <tr>\n",
       "      <th>1</th>\n",
       "      <td>133675</td>\n",
       "      <td>Chennerkara FHC</td>\n",
       "      <td>Chennerkkara PHCNallanikunnu Elavumthitta P.O</td>\n",
       "      <td>Kerala</td>\n",
       "      <td>Pathanamthitta</td>\n",
       "      <td>Elanthoor CHC</td>\n",
       "      <td>689625</td>\n",
       "      <td>09:00:00</td>\n",
       "      <td>14:00:00</td>\n",
       "      <td>9</td>\n",
       "      <td>...</td>\n",
       "      <td>Free</td>\n",
       "      <td>9d0c53fe-86f2-4a98-8606-2f8191ce7a7e</td>\n",
       "      <td>07-06-2021</td>\n",
       "      <td>0</td>\n",
       "      <td>0</td>\n",
       "      <td>0</td>\n",
       "      <td>0</td>\n",
       "      <td>45</td>\n",
       "      <td>COVISHIELD</td>\n",
       "      <td>[09:00AM-10:00AM, 10:00AM-11:00AM, 11:00AM-12:...</td>\n",
       "    </tr>\n",
       "    <tr>\n",
       "      <th>2</th>\n",
       "      <td>120234</td>\n",
       "      <td>Thannithodu FHC</td>\n",
       "      <td>Thannithod FHC Thannithod P.O</td>\n",
       "      <td>Kerala</td>\n",
       "      <td>Pathanamthitta</td>\n",
       "      <td>Konny THQH</td>\n",
       "      <td>689699</td>\n",
       "      <td>09:00:00</td>\n",
       "      <td>14:00:00</td>\n",
       "      <td>9</td>\n",
       "      <td>...</td>\n",
       "      <td>Free</td>\n",
       "      <td>a31e7b9e-f4c7-42d8-a32b-70dbd0242a14</td>\n",
       "      <td>07-06-2021</td>\n",
       "      <td>0</td>\n",
       "      <td>0</td>\n",
       "      <td>0</td>\n",
       "      <td>0</td>\n",
       "      <td>45</td>\n",
       "      <td>COVISHIELD</td>\n",
       "      <td>[09:00AM-10:00AM, 10:00AM-11:00AM, 11:00AM-12:...</td>\n",
       "    </tr>\n",
       "    <tr>\n",
       "      <th>3</th>\n",
       "      <td>120322</td>\n",
       "      <td>Pandalam FHC</td>\n",
       "      <td>Pandalam PHC Pandalam P.O</td>\n",
       "      <td>Kerala</td>\n",
       "      <td>Pathanamthitta</td>\n",
       "      <td>Thumpamon CHC</td>\n",
       "      <td>689501</td>\n",
       "      <td>09:00:00</td>\n",
       "      <td>14:00:00</td>\n",
       "      <td>9</td>\n",
       "      <td>...</td>\n",
       "      <td>Free</td>\n",
       "      <td>50f7aae7-82bc-4081-9228-bbc502bb2705</td>\n",
       "      <td>07-06-2021</td>\n",
       "      <td>0</td>\n",
       "      <td>0</td>\n",
       "      <td>0</td>\n",
       "      <td>0</td>\n",
       "      <td>45</td>\n",
       "      <td>COVISHIELD</td>\n",
       "      <td>[09:00AM-10:00AM, 10:00AM-11:00AM, 11:00AM-12:...</td>\n",
       "    </tr>\n",
       "    <tr>\n",
       "      <th>4</th>\n",
       "      <td>120247</td>\n",
       "      <td>Kuttoor PHC</td>\n",
       "      <td>Kuttoor PHC  Near Kuttoor GHssKuttoor P.O</td>\n",
       "      <td>Kerala</td>\n",
       "      <td>Pathanamthitta</td>\n",
       "      <td>Chathenkery CHC</td>\n",
       "      <td>689106</td>\n",
       "      <td>09:00:00</td>\n",
       "      <td>14:00:00</td>\n",
       "      <td>9</td>\n",
       "      <td>...</td>\n",
       "      <td>Free</td>\n",
       "      <td>aa411242-ac9b-430c-a729-8870bc6c7860</td>\n",
       "      <td>07-06-2021</td>\n",
       "      <td>0</td>\n",
       "      <td>0</td>\n",
       "      <td>0</td>\n",
       "      <td>0</td>\n",
       "      <td>18</td>\n",
       "      <td>COVISHIELD</td>\n",
       "      <td>[09:00AM-10:00AM, 10:00AM-11:00AM, 11:00AM-12:...</td>\n",
       "    </tr>\n",
       "    <tr>\n",
       "      <th>...</th>\n",
       "      <td>...</td>\n",
       "      <td>...</td>\n",
       "      <td>...</td>\n",
       "      <td>...</td>\n",
       "      <td>...</td>\n",
       "      <td>...</td>\n",
       "      <td>...</td>\n",
       "      <td>...</td>\n",
       "      <td>...</td>\n",
       "      <td>...</td>\n",
       "      <td>...</td>\n",
       "      <td>...</td>\n",
       "      <td>...</td>\n",
       "      <td>...</td>\n",
       "      <td>...</td>\n",
       "      <td>...</td>\n",
       "      <td>...</td>\n",
       "      <td>...</td>\n",
       "      <td>...</td>\n",
       "      <td>...</td>\n",
       "      <td>...</td>\n",
       "    </tr>\n",
       "    <tr>\n",
       "      <th>135</th>\n",
       "      <td>120349</td>\n",
       "      <td>Thumpamon CHC</td>\n",
       "      <td>Thumpamon CHC Thumpamon P.O</td>\n",
       "      <td>Kerala</td>\n",
       "      <td>Pathanamthitta</td>\n",
       "      <td>Thumpamon CHC</td>\n",
       "      <td>689502</td>\n",
       "      <td>09:00:00</td>\n",
       "      <td>14:00:00</td>\n",
       "      <td>9</td>\n",
       "      <td>...</td>\n",
       "      <td>Free</td>\n",
       "      <td>9c064b3c-c241-43c1-8d44-c38d1b2c6d96</td>\n",
       "      <td>07-06-2021</td>\n",
       "      <td>0</td>\n",
       "      <td>0</td>\n",
       "      <td>0</td>\n",
       "      <td>0</td>\n",
       "      <td>45</td>\n",
       "      <td>COVISHIELD</td>\n",
       "      <td>[09:00AM-10:00AM, 10:00AM-11:00AM, 11:00AM-12:...</td>\n",
       "    </tr>\n",
       "    <tr>\n",
       "      <th>136</th>\n",
       "      <td>120384</td>\n",
       "      <td>Kadampanad PHC</td>\n",
       "      <td>Kadampanadu PHCThuvayoorsouth P O</td>\n",
       "      <td>Kerala</td>\n",
       "      <td>Pathanamthitta</td>\n",
       "      <td>Enadimangalam CHC</td>\n",
       "      <td>691552</td>\n",
       "      <td>09:00:00</td>\n",
       "      <td>14:00:00</td>\n",
       "      <td>9</td>\n",
       "      <td>...</td>\n",
       "      <td>Free</td>\n",
       "      <td>d6e45833-18f5-40b1-8d14-9d0d9a3bc4f9</td>\n",
       "      <td>07-06-2021</td>\n",
       "      <td>0</td>\n",
       "      <td>0</td>\n",
       "      <td>0</td>\n",
       "      <td>0</td>\n",
       "      <td>45</td>\n",
       "      <td>COVISHIELD</td>\n",
       "      <td>[09:00AM-10:00AM, 10:00AM-11:00AM, 11:00AM-12:...</td>\n",
       "    </tr>\n",
       "    <tr>\n",
       "      <th>137</th>\n",
       "      <td>120296</td>\n",
       "      <td>Thiruvalla THQH</td>\n",
       "      <td>PPunitTHQH ThiruvallaThiruvalla(P.O)Near St.Jo...</td>\n",
       "      <td>Kerala</td>\n",
       "      <td>Pathanamthitta</td>\n",
       "      <td>Chathenkery CHC</td>\n",
       "      <td>689101</td>\n",
       "      <td>09:00:00</td>\n",
       "      <td>14:00:00</td>\n",
       "      <td>9</td>\n",
       "      <td>...</td>\n",
       "      <td>Free</td>\n",
       "      <td>e038fc93-5566-4254-b50a-4962ae952156</td>\n",
       "      <td>07-06-2021</td>\n",
       "      <td>0</td>\n",
       "      <td>0</td>\n",
       "      <td>0</td>\n",
       "      <td>0</td>\n",
       "      <td>18</td>\n",
       "      <td>COVISHIELD</td>\n",
       "      <td>[09:00AM-10:00AM, 10:00AM-11:00AM, 11:00AM-12:...</td>\n",
       "    </tr>\n",
       "    <tr>\n",
       "      <th>138</th>\n",
       "      <td>597864</td>\n",
       "      <td>Kunnamthanam CHC</td>\n",
       "      <td>Kunnamthanam CHC</td>\n",
       "      <td>Kerala</td>\n",
       "      <td>Pathanamthitta</td>\n",
       "      <td>Kunnamthanam CHC</td>\n",
       "      <td>689581</td>\n",
       "      <td>09:00:00</td>\n",
       "      <td>14:00:00</td>\n",
       "      <td>9</td>\n",
       "      <td>...</td>\n",
       "      <td>Free</td>\n",
       "      <td>e1726ea4-438b-450e-9a8b-9300a2aa14d3</td>\n",
       "      <td>07-06-2021</td>\n",
       "      <td>0</td>\n",
       "      <td>0</td>\n",
       "      <td>0</td>\n",
       "      <td>0</td>\n",
       "      <td>18</td>\n",
       "      <td>COVISHIELD</td>\n",
       "      <td>[09:00AM-10:00AM, 10:00AM-11:00AM, 11:00AM-12:...</td>\n",
       "    </tr>\n",
       "    <tr>\n",
       "      <th>139</th>\n",
       "      <td>120193</td>\n",
       "      <td>Mallapuzhassery PHC</td>\n",
       "      <td>Mallapuzhasherry PHC Punnakkad P.O</td>\n",
       "      <td>Kerala</td>\n",
       "      <td>Pathanamthitta</td>\n",
       "      <td>Elanthoor CHC</td>\n",
       "      <td>689652</td>\n",
       "      <td>09:00:00</td>\n",
       "      <td>14:00:00</td>\n",
       "      <td>0</td>\n",
       "      <td>...</td>\n",
       "      <td>Free</td>\n",
       "      <td>a08775c9-020c-4d9f-834f-e0032132b808</td>\n",
       "      <td>07-06-2021</td>\n",
       "      <td>0</td>\n",
       "      <td>0</td>\n",
       "      <td>0</td>\n",
       "      <td>0</td>\n",
       "      <td>18</td>\n",
       "      <td>COVISHIELD</td>\n",
       "      <td>[09:00AM-10:00AM, 10:00AM-11:00AM, 11:00AM-12:...</td>\n",
       "    </tr>\n",
       "  </tbody>\n",
       "</table>\n",
       "<p>140 rows × 21 columns</p>\n",
       "</div>"
      ],
      "text/plain": [
       "     center_id                 name  \\\n",
       "0       120358        Mezhuveli FHC   \n",
       "1       133675      Chennerkara FHC   \n",
       "2       120234      Thannithodu FHC   \n",
       "3       120322         Pandalam FHC   \n",
       "4       120247          Kuttoor PHC   \n",
       "..         ...                  ...   \n",
       "135     120349        Thumpamon CHC   \n",
       "136     120384       Kadampanad PHC   \n",
       "137     120296      Thiruvalla THQH   \n",
       "138     597864     Kunnamthanam CHC   \n",
       "139     120193  Mallapuzhassery PHC   \n",
       "\n",
       "                                               address state_name  \\\n",
       "0                          Mezhuveli PHC Mezhuveli P.O     Kerala   \n",
       "1        Chennerkkara PHCNallanikunnu Elavumthitta P.O     Kerala   \n",
       "2                        Thannithod FHC Thannithod P.O     Kerala   \n",
       "3                            Pandalam PHC Pandalam P.O     Kerala   \n",
       "4            Kuttoor PHC  Near Kuttoor GHssKuttoor P.O     Kerala   \n",
       "..                                                 ...        ...   \n",
       "135                        Thumpamon CHC Thumpamon P.O     Kerala   \n",
       "136                  Kadampanadu PHCThuvayoorsouth P O     Kerala   \n",
       "137  PPunitTHQH ThiruvallaThiruvalla(P.O)Near St.Jo...     Kerala   \n",
       "138                                   Kunnamthanam CHC     Kerala   \n",
       "139                 Mallapuzhasherry PHC Punnakkad P.O     Kerala   \n",
       "\n",
       "      district_name         block_name  pincode      from        to  lat  ...  \\\n",
       "0    Pathanamthitta        Vallana CHC   689503  09:00:00  14:00:00    9  ...   \n",
       "1    Pathanamthitta      Elanthoor CHC   689625  09:00:00  14:00:00    9  ...   \n",
       "2    Pathanamthitta         Konny THQH   689699  09:00:00  14:00:00    9  ...   \n",
       "3    Pathanamthitta      Thumpamon CHC   689501  09:00:00  14:00:00    9  ...   \n",
       "4    Pathanamthitta    Chathenkery CHC   689106  09:00:00  14:00:00    9  ...   \n",
       "..              ...                ...      ...       ...       ...  ...  ...   \n",
       "135  Pathanamthitta      Thumpamon CHC   689502  09:00:00  14:00:00    9  ...   \n",
       "136  Pathanamthitta  Enadimangalam CHC   691552  09:00:00  14:00:00    9  ...   \n",
       "137  Pathanamthitta    Chathenkery CHC   689101  09:00:00  14:00:00    9  ...   \n",
       "138  Pathanamthitta   Kunnamthanam CHC   689581  09:00:00  14:00:00    9  ...   \n",
       "139  Pathanamthitta      Elanthoor CHC   689652  09:00:00  14:00:00    0  ...   \n",
       "\n",
       "     fee_type                            session_id        date  \\\n",
       "0        Free  3a6ea98f-72aa-4126-b006-899c8c4400cc  07-06-2021   \n",
       "1        Free  9d0c53fe-86f2-4a98-8606-2f8191ce7a7e  07-06-2021   \n",
       "2        Free  a31e7b9e-f4c7-42d8-a32b-70dbd0242a14  07-06-2021   \n",
       "3        Free  50f7aae7-82bc-4081-9228-bbc502bb2705  07-06-2021   \n",
       "4        Free  aa411242-ac9b-430c-a729-8870bc6c7860  07-06-2021   \n",
       "..        ...                                   ...         ...   \n",
       "135      Free  9c064b3c-c241-43c1-8d44-c38d1b2c6d96  07-06-2021   \n",
       "136      Free  d6e45833-18f5-40b1-8d14-9d0d9a3bc4f9  07-06-2021   \n",
       "137      Free  e038fc93-5566-4254-b50a-4962ae952156  07-06-2021   \n",
       "138      Free  e1726ea4-438b-450e-9a8b-9300a2aa14d3  07-06-2021   \n",
       "139      Free  a08775c9-020c-4d9f-834f-e0032132b808  07-06-2021   \n",
       "\n",
       "    available_capacity_dose1  available_capacity_dose2  available_capacity  \\\n",
       "0                          0                         0                   0   \n",
       "1                          0                         0                   0   \n",
       "2                          0                         0                   0   \n",
       "3                          0                         0                   0   \n",
       "4                          0                         0                   0   \n",
       "..                       ...                       ...                 ...   \n",
       "135                        0                         0                   0   \n",
       "136                        0                         0                   0   \n",
       "137                        0                         0                   0   \n",
       "138                        0                         0                   0   \n",
       "139                        0                         0                   0   \n",
       "\n",
       "     fee min_age_limit     vaccine  \\\n",
       "0      0            45  COVISHIELD   \n",
       "1      0            45  COVISHIELD   \n",
       "2      0            45  COVISHIELD   \n",
       "3      0            45  COVISHIELD   \n",
       "4      0            18  COVISHIELD   \n",
       "..   ...           ...         ...   \n",
       "135    0            45  COVISHIELD   \n",
       "136    0            45  COVISHIELD   \n",
       "137    0            18  COVISHIELD   \n",
       "138    0            18  COVISHIELD   \n",
       "139    0            18  COVISHIELD   \n",
       "\n",
       "                                                 slots  \n",
       "0    [09:00AM-10:00AM, 10:00AM-11:00AM, 11:00AM-12:...  \n",
       "1    [09:00AM-10:00AM, 10:00AM-11:00AM, 11:00AM-12:...  \n",
       "2    [09:00AM-10:00AM, 10:00AM-11:00AM, 11:00AM-12:...  \n",
       "3    [09:00AM-10:00AM, 10:00AM-11:00AM, 11:00AM-12:...  \n",
       "4    [09:00AM-10:00AM, 10:00AM-11:00AM, 11:00AM-12:...  \n",
       "..                                                 ...  \n",
       "135  [09:00AM-10:00AM, 10:00AM-11:00AM, 11:00AM-12:...  \n",
       "136  [09:00AM-10:00AM, 10:00AM-11:00AM, 11:00AM-12:...  \n",
       "137  [09:00AM-10:00AM, 10:00AM-11:00AM, 11:00AM-12:...  \n",
       "138  [09:00AM-10:00AM, 10:00AM-11:00AM, 11:00AM-12:...  \n",
       "139  [09:00AM-10:00AM, 10:00AM-11:00AM, 11:00AM-12:...  \n",
       "\n",
       "[140 rows x 21 columns]"
      ]
     },
     "execution_count": 8,
     "metadata": {},
     "output_type": "execute_result"
    }
   ],
   "source": [
    "pd.DataFrame(c)"
   ]
  },
  {
   "cell_type": "code",
   "execution_count": null,
   "id": "31dc8a7e",
   "metadata": {},
   "outputs": [],
   "source": [
    "len(c)\n"
   ]
  },
  {
   "cell_type": "code",
   "execution_count": null,
   "id": "f3505953",
   "metadata": {},
   "outputs": [],
   "source": [
    "pd.DataFrame({'hellpo':'nandu'},index=['hi'])"
   ]
  },
  {
   "cell_type": "code",
   "execution_count": null,
   "id": "d9c684dd",
   "metadata": {},
   "outputs": [],
   "source": [
    "df=pd.DataFrame()\n",
    "for i in c:\n",
    "    df=pd.concat([df,pd.DataFrame(i)],ignore_index=True)"
   ]
  },
  {
   "cell_type": "code",
   "execution_count": null,
   "id": "63d48a68",
   "metadata": {},
   "outputs": [],
   "source": [
    "df.drop_duplicates(subset='session_id',keep='first',inplace=True)"
   ]
  },
  {
   "cell_type": "code",
   "execution_count": null,
   "id": "f684b690",
   "metadata": {},
   "outputs": [],
   "source": [
    "df"
   ]
  },
  {
   "cell_type": "code",
   "execution_count": null,
   "id": "28045c07",
   "metadata": {},
   "outputs": [],
   "source": [
    "df.columns"
   ]
  },
  {
   "cell_type": "code",
   "execution_count": null,
   "id": "a1f5cd48",
   "metadata": {},
   "outputs": [],
   "source": [
    "response.content.decode"
   ]
  },
  {
   "cell_type": "code",
   "execution_count": null,
   "id": "edca8b25",
   "metadata": {},
   "outputs": [],
   "source": [
    "import json"
   ]
  },
  {
   "cell_type": "code",
   "execution_count": null,
   "id": "36f25452",
   "metadata": {},
   "outputs": [],
   "source": [
    "ss=json.dumps(response.json())"
   ]
  },
  {
   "cell_type": "code",
   "execution_count": null,
   "id": "38804b12",
   "metadata": {},
   "outputs": [],
   "source": [
    "for i in response.json():\n",
    "    print(i)"
   ]
  },
  {
   "cell_type": "code",
   "execution_count": null,
   "id": "70e4aa90",
   "metadata": {},
   "outputs": [],
   "source": [
    "l"
   ]
  },
  {
   "cell_type": "code",
   "execution_count": null,
   "id": "a7192566",
   "metadata": {},
   "outputs": [],
   "source": [
    "response.json()['sessions']"
   ]
  },
  {
   "cell_type": "code",
   "execution_count": null,
   "id": "d95735b7",
   "metadata": {},
   "outputs": [],
   "source": [
    "for i in response.json():\n",
    "    print(i)"
   ]
  },
  {
   "cell_type": "code",
   "execution_count": null,
   "id": "b6570fbe",
   "metadata": {},
   "outputs": [],
   "source": [
    "l={}\n",
    "for i in response.json()['sessions']:\n",
    "    l[i['block_name']]=[i['address'],i['pincode'],i['available_capacity_dose1'],i['available_capacity_dose2']]\n",
    "    \n",
    "    "
   ]
  },
  {
   "cell_type": "code",
   "execution_count": null,
   "id": "84b86618",
   "metadata": {},
   "outputs": [],
   "source": [
    "l"
   ]
  },
  {
   "cell_type": "code",
   "execution_count": null,
   "id": "f2544a19",
   "metadata": {},
   "outputs": [],
   "source": [
    "pd.DataFrame(l,index=['address','pin','available_capacity_dose1','available_capacity_dose2']).T"
   ]
  },
  {
   "cell_type": "code",
   "execution_count": null,
   "id": "4f85d8da",
   "metadata": {},
   "outputs": [],
   "source": [
    "for i in response.json()['sessions']:\n",
    "    print(i)\n",
    "    "
   ]
  },
  {
   "cell_type": "code",
   "execution_count": null,
   "id": "d92f60a5",
   "metadata": {},
   "outputs": [],
   "source": [
    "l[1]"
   ]
  },
  {
   "cell_type": "code",
   "execution_count": 6,
   "id": "a28166c9",
   "metadata": {},
   "outputs": [],
   "source": [
    "ff=pd.read_csv('cowinkerala.csv')"
   ]
  },
  {
   "cell_type": "code",
   "execution_count": null,
   "id": "fbc84819",
   "metadata": {},
   "outputs": [],
   "source": [
    "ff.dtypes"
   ]
  },
  {
   "cell_type": "code",
   "execution_count": 5,
   "id": "572ff6ab",
   "metadata": {},
   "outputs": [],
   "source": [
    "import pandas as pd\n",
    "import requests"
   ]
  },
  {
   "cell_type": "code",
   "execution_count": null,
   "id": "f487d84e",
   "metadata": {},
   "outputs": [],
   "source": [
    "'\"hi\"'.replace(\"'\",\"\")"
   ]
  },
  {
   "cell_type": "code",
   "execution_count": null,
   "id": "a1790504",
   "metadata": {},
   "outputs": [],
   "source": [
    "eval('31-5-2021')"
   ]
  },
  {
   "cell_type": "code",
   "execution_count": null,
   "id": "5c191962",
   "metadata": {},
   "outputs": [],
   "source": [
    "k={}\n",
    "f='nanu'\n",
    "k[f]=1"
   ]
  },
  {
   "cell_type": "code",
   "execution_count": null,
   "id": "c3cb8e3e",
   "metadata": {},
   "outputs": [],
   "source": [
    "k"
   ]
  },
  {
   "cell_type": "code",
   "execution_count": null,
   "id": "d68afdda",
   "metadata": {},
   "outputs": [],
   "source": [
    "k.items()"
   ]
  },
  {
   "cell_type": "code",
   "execution_count": null,
   "id": "21d5d633",
   "metadata": {},
   "outputs": [],
   "source": [
    "import ast"
   ]
  },
  {
   "cell_type": "code",
   "execution_count": null,
   "id": "42c4619f",
   "metadata": {},
   "outputs": [],
   "source": [
    "ast.literal_eval('hi')"
   ]
  },
  {
   "cell_type": "code",
   "execution_count": null,
   "id": "cae18ab5",
   "metadata": {},
   "outputs": [],
   "source": [
    "pd.DataFrame([{'hi':'nandu'},{'hi':'nn'}])"
   ]
  },
  {
   "cell_type": "code",
   "execution_count": null,
   "id": "23b1d9b9",
   "metadata": {},
   "outputs": [],
   "source": []
  }
 ],
 "metadata": {
  "kernelspec": {
   "display_name": "Python 3",
   "language": "python",
   "name": "python3"
  },
  "language_info": {
   "codemirror_mode": {
    "name": "ipython",
    "version": 3
   },
   "file_extension": ".py",
   "mimetype": "text/x-python",
   "name": "python",
   "nbconvert_exporter": "python",
   "pygments_lexer": "ipython3",
   "version": "3.8.8"
  }
 },
 "nbformat": 4,
 "nbformat_minor": 5
}
