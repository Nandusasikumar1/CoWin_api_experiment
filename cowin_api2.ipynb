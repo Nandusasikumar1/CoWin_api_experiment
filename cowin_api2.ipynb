{
 "cells": [
  {
   "cell_type": "code",
   "execution_count": 7,
   "id": "ee8cda0d",
   "metadata": {},
   "outputs": [],
   "source": [
    "import pandas as pd\n",
    "import numpy as np \n",
    "import requests\n",
    "import streamlit as st\n",
    "class cowin():\n",
    "    def read(self):\n",
    "        file1=pd.DataFrame({'district_id':[295, 296, 297, 298, 299, 300, 301, 302, 303, 304, 305, 306, 307, 308],\n",
    "                          'districts':['Kasaragod','Thiruvananthapuram','Kannur','Kollam','Wayanad','Pathanamthitta','Alappuzha','Malappuram','Thrissur','Kottayam','Kozhikode','Idukki','Ernakulam','Palakkad']\n",
    "                          })\n",
    "        return file1\n",
    "    def cowin_data(self):\n",
    "        file=self.read()\n",
    "        date=st.text_input('Enter date(mm-dd-yyyy)',value='01-06-2021',key=2)\n",
    "        districts=st.selectbox('Select District',list(file['districts']))\n",
    "        dist_id=list(file[file['districts']==districts]['district_id'])[0]\n",
    "        response=requests.get('https://cdn-api.co-vin.in/api/v2/appointment/sessions/public/findByDistrict?',params={'district_id':str(dist_id),'date':date})\n",
    "        c=[]\n",
    "        data={}\n",
    "        details={}\n",
    "        try:\n",
    "            for i in response.json():\n",
    "                for k in response.json()[i]:\n",
    "                    c.append(k)\n",
    "            keyss=[i.keys() for i in c]\n",
    "            keys1=list(np.unique(keyss)[0])\n",
    "            index=[keys1.index(i) for i in ['name','pincode','fee_type','fee','min_age_limit','vaccine','available_capacity_dose1','available_capacity_dose2']]\n",
    "            \n",
    "            for f in index:\n",
    "                data[keys1[f]]=[]\n",
    "                for p in c:\n",
    "                    data[keys1[f]].append(list(p.values())[f])\n",
    "            centre=st.selectbox('Select  Vaccination Centre',data['name'])\n",
    "            \n",
    "            details['fee_type']=data['fee_type'][data['name'].index(centre)]\n",
    "            details['fee']=data['fee'][data['name'].index(centre)]\n",
    "            details['min_age_limit']=data['min_age_limit'][data['name'].index(centre)]\n",
    "            details['vaccine']=data['vaccine'][data['name'].index(centre)]\n",
    "            details['dose1']=data['available_capacity_dose1'][data['name'].index(centre)]\n",
    "            details['dose2']=data['available_capacity_dose2'][data['name'].index(centre)]\n",
    "        except:\n",
    "            st.write('No center available')\n",
    "        return details\n",
    "\n",
    "    def show(self):\n",
    "        st.set_page_config(page_title=\"Nandu's CoWin api experiment\")\n",
    "        hide_streamlit_style = \"\"\"\n",
    "        <style>\n",
    "        #MainMenu {visibility: hidden;}\n",
    "        footer {visibility: hidden;}\n",
    "        </style>\n",
    "        \"\"\"\n",
    "        st.markdown(hide_streamlit_style, unsafe_allow_html=True)\n",
    "        st.dataframe([self.cowin_data()])\n",
    "if __name__=='__main__':\n",
    "    cowin().show()\n",
    "    "
   ]
  },
  {
   "cell_type": "code",
   "execution_count": null,
   "id": "b795f803",
   "metadata": {},
   "outputs": [],
   "source": []
  }
 ],
 "metadata": {
  "kernelspec": {
   "display_name": "Python 3",
   "language": "python",
   "name": "python3"
  },
  "language_info": {
   "codemirror_mode": {
    "name": "ipython",
    "version": 3
   },
   "file_extension": ".py",
   "mimetype": "text/x-python",
   "name": "python",
   "nbconvert_exporter": "python",
   "pygments_lexer": "ipython3",
   "version": "3.8.8"
  }
 },
 "nbformat": 4,
 "nbformat_minor": 5
}
