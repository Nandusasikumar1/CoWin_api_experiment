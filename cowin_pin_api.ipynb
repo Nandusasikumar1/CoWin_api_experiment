{
 "cells": [
  {
   "cell_type": "code",
   "execution_count": 1,
   "id": "aded09bb",
   "metadata": {},
   "outputs": [],
   "source": [
    "import requests\n",
    "import pandas as pd"
   ]
  },
  {
   "cell_type": "code",
   "execution_count": 58,
   "id": "ab546cba",
   "metadata": {},
   "outputs": [],
   "source": [
    "centers_kerala={}\n",
    "response=requests.get('https://cdn-api.co-vin.in/api/v2/appointment/sessions/public/calendarByCenter?center_id=122077&date=16-07-2021')\n"
   ]
  },
  {
   "cell_type": "code",
   "execution_count": 71,
   "id": "dee292c7",
   "metadata": {},
   "outputs": [
    {
     "data": {
      "text/plain": [
       "{'center_id': 122077,\n",
       " 'name': 'Cheruvathur CHC-AUPS Kovval',\n",
       " 'address': 'Cheruvathur CHC Cheruvathur P.O',\n",
       " 'state_name': 'Kerala',\n",
       " 'district_name': 'Kasaragod',\n",
       " 'block_name': 'Nileshwar CHC',\n",
       " 'pincode': 671313,\n",
       " 'lat': 12,\n",
       " 'long': 75,\n",
       " 'from': '09:30:00',\n",
       " 'to': '12:30:00',\n",
       " 'fee_type': 'Free',\n",
       " 'sessions': [{'date': '16-07-2021',\n",
       "   'available_capacity': 0,\n",
       "   'min_age_limit': 18,\n",
       "   'vaccine': 'COVAXIN',\n",
       "   'slots': ['09:30AM-11:30AM', '11:30AM-12:30PM'],\n",
       "   'available_capacity_dose1': 0,\n",
       "   'available_capacity_dose2': 0},\n",
       "  {'date': '17-07-2021',\n",
       "   'available_capacity': 0,\n",
       "   'min_age_limit': 45,\n",
       "   'vaccine': 'COVISHIELD',\n",
       "   'slots': ['09:00AM-10:00AM',\n",
       "    '10:00AM-11:00AM',\n",
       "    '11:00AM-12:00PM',\n",
       "    '12:00PM-01:30PM'],\n",
       "   'available_capacity_dose1': 0,\n",
       "   'available_capacity_dose2': 0},\n",
       "  {'date': '18-07-2021',\n",
       "   'available_capacity': 0,\n",
       "   'min_age_limit': 45,\n",
       "   'vaccine': 'COVISHIELD',\n",
       "   'slots': ['09:00AM-10:00AM',\n",
       "    '10:00AM-11:00AM',\n",
       "    '11:00AM-12:00PM',\n",
       "    '12:00PM-01:30PM'],\n",
       "   'available_capacity_dose1': 0,\n",
       "   'available_capacity_dose2': 0},\n",
       "  {'date': '19-07-2021',\n",
       "   'available_capacity': 0,\n",
       "   'min_age_limit': 45,\n",
       "   'vaccine': 'COVISHIELD',\n",
       "   'slots': ['09:00AM-10:00AM',\n",
       "    '10:00AM-11:00AM',\n",
       "    '11:00AM-12:00PM',\n",
       "    '12:00PM-01:30PM'],\n",
       "   'available_capacity_dose1': 0,\n",
       "   'available_capacity_dose2': 0},\n",
       "  {'date': '20-07-2021',\n",
       "   'available_capacity': 0,\n",
       "   'min_age_limit': 45,\n",
       "   'vaccine': 'COVISHIELD',\n",
       "   'slots': ['09:00AM-10:00AM',\n",
       "    '10:00AM-11:00AM',\n",
       "    '11:00AM-12:00PM',\n",
       "    '12:00PM-01:30PM'],\n",
       "   'available_capacity_dose1': 0,\n",
       "   'available_capacity_dose2': 0}]}"
      ]
     },
     "execution_count": 71,
     "metadata": {},
     "output_type": "execute_result"
    }
   ],
   "source": [
    "response.json()['centers']"
   ]
  },
  {
   "cell_type": "code",
   "execution_count": null,
   "id": "cf328bb8",
   "metadata": {},
   "outputs": [],
   "source": []
  }
 ],
 "metadata": {
  "kernelspec": {
   "display_name": "Python 3",
   "language": "python",
   "name": "python3"
  },
  "language_info": {
   "codemirror_mode": {
    "name": "ipython",
    "version": 3
   },
   "file_extension": ".py",
   "mimetype": "text/x-python",
   "name": "python",
   "nbconvert_exporter": "python",
   "pygments_lexer": "ipython3",
   "version": "3.8.8"
  }
 },
 "nbformat": 4,
 "nbformat_minor": 5
}
